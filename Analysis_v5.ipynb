{
 "cells": [
  {
   "cell_type": "code",
   "execution_count": 1,
   "outputs": [],
   "source": [
    "'''\n",
    "Author: Satya Katragadda\n",
    "'''"
   ],
   "metadata": {
    "collapsed": false,
    "pycharm": {
     "name": "#%%\n"
    }
   }
  },
  {
   "cell_type": "code",
   "execution_count": null,
   "outputs": [],
   "source": [
    "import pandas as pd\n",
    "import seaborn as sea\n",
    "import numpy as np\n",
    "from matplotlib import pyplot as plt\n",
    "from statsmodels.tsa.stattools import grangercausalitytests\n",
    "from scipy.stats import pearsonr\n",
    "from sklearn import linear_model as lm\n",
    "\n",
    "import warnings\n",
    "warnings.filterwarnings('ignore')"
   ],
   "metadata": {
    "collapsed": false,
    "pycharm": {
     "name": "#%%\n"
    }
   }
  },
  {
   "cell_type": "code",
   "execution_count": 2,
   "outputs": [],
   "source": [
    "df = pd.read_csv('Data/State_Consolidated_Mobility_Miles_New_Actionable_Oct20.csv')\n",
    "df.fillna(0, inplace=True)\n",
    "\n"
   ],
   "metadata": {
    "collapsed": false,
    "pycharm": {
     "name": "#%%\n"
    }
   }
  },
  {
   "cell_type": "code",
   "execution_count": 4,
   "outputs": [],
   "source": [
    "def generateCorrelations(df):\n",
    "    try:\n",
    "        p = pearsonr(df['desCartes'].values, df['Incidence'].values)[0]\n",
    "        q = pearsonr(df['desCartes'].values, df['Incidence'].values)[1]\n",
    "        return p,q\n",
    "    except:\n",
    "        return -1,-1\n",
    "\n",
    "\n",
    "def enterDict(state, lag, phase, correlation, sig):\n",
    "    row = {}\n",
    "    row['state'] = state\n",
    "    row['lag'] = lag\n",
    "    row['Phase'] = phase\n",
    "    row['correlation'] = correlation\n",
    "    row['sig'] = sig\n",
    "    return row\n",
    "\n",
    "\n",
    "def normalize(series):\n",
    "    return (series-series.min())/(series.max()-series.min())"
   ],
   "metadata": {
    "collapsed": false,
    "pycharm": {
     "name": "#%%\n"
    }
   }
  },
  {
   "cell_type": "code",
   "execution_count": 5,
   "outputs": [
    {
     "name": "stdout",
     "output_type": "stream",
     "text": [
      "Alabama\n",
      "Alaska\n",
      "Arizona\n",
      "Arkansas\n",
      "California\n",
      "Colorado\n",
      "Connecticut\n",
      "Delaware\n",
      "Florida\n",
      "Georgia\n",
      "Hawaii\n",
      "Idaho\n",
      "Illinois\n",
      "Indiana\n",
      "Iowa\n",
      "Kansas\n",
      "Kentucky\n",
      "Louisiana\n",
      "Maine\n",
      "Maryland\n",
      "Massachusetts\n",
      "Michigan\n",
      "Minnesota\n",
      "Mississippi\n",
      "Missouri\n",
      "Montana\n",
      "Nebraska\n",
      "Nevada\n",
      "New Hampshire\n",
      "New Jersey\n",
      "New Mexico\n",
      "New York\n",
      "North Carolina\n",
      "North Dakota\n",
      "Ohio\n",
      "Oklahoma\n",
      "Oregon\n",
      "Pennsylvania\n",
      "Rhode Island\n",
      "South Carolina\n",
      "South Dakota\n",
      "Tennessee\n",
      "Texas\n",
      "Utah\n",
      "Vermont\n",
      "Virginia\n",
      "Washington\n",
      "West Virginia\n",
      "Wisconsin\n",
      "Wyoming\n"
     ]
    }
   ],
   "source": [
    "states = df['state'].unique()\n",
    "phdf = pd.read_csv('Data/phases_phase1.csv')\n",
    "ndf = {}\n",
    "\n",
    "sdf = pd.DataFrame()\n",
    "k = 0\n",
    "lags = [-10,-9,-8,-7,-6,-5,-4,-3,-2,-1]\n",
    "for state in states:\n",
    "    print(state)\n",
    "    for lag in lags:\n",
    "\n",
    "        tdf = df[df['state']==state]\n",
    "        tdf['desCartes'] = tdf['desCartes'].shift((lag*-1))\n",
    "        tdf = tdf[~tdf['desCartes'].isin([np.nan, np.inf, -np.inf])]\n",
    "        tdf = tdf[~tdf['Incidence'].isin([np.nan, np.inf, -np.inf])]\n",
    "        row={}\n",
    "        row['state'] = state\n",
    "        row['Phase'] = 'CompleteSeries'\n",
    "        row['correlation'] = pearsonr(tdf['desCartes'].values, tdf['Incidence'].values )[0]\n",
    "        row['sig'] = pearsonr(tdf['desCartes'].values, tdf['Incidence'].values )[1]\n",
    "        row['lag'] = lag\n",
    "        ndf[k] =row\n",
    "        k = k+1\n",
    "        tdf.sort_values('startDayWeek', inplace=True)\n",
    "        if(state  in phdf.columns):\n",
    "            tphdf = phdf[['Phase Loc',state]]\n",
    "            p1_start = tphdf[tphdf['Phase Loc']=='Phase1'][state].values[0]\n",
    "            p1_end = tphdf[tphdf['Phase Loc']=='Phase2'][state].values[0]\n",
    "            p2_start = tphdf[tphdf['Phase Loc']=='Phase2'][state].values[0]\n",
    "            p2_end = tphdf[tphdf['Phase Loc']=='Phase3'][state].values[0]\n",
    "            p3_start = tphdf[tphdf['Phase Loc']=='Phase3'][state].values[0]\n",
    "            p3_end = tphdf[tphdf['Phase Loc']=='Phase4'][state].values[0]\n",
    "            p4_start = tphdf[tphdf['Phase Loc']=='Phase4'][state].values[0]\n",
    "            p4_end = tphdf[tphdf['Phase Loc']=='Phase5'][state].values[0]\n",
    "            p5_start = tphdf[tphdf['Phase Loc']=='Phase5'][state].values[0]\n",
    "            p5_end = tphdf[tphdf['Phase Loc']=='End'][state].values[0]\n",
    "            if p1_end!=0:\n",
    "                ptdf = tdf[(tdf['week']>=p1_start) & (tdf['week']<=p1_end)]\n",
    "                p ,q= generateCorrelations(ptdf)\n",
    "                ndf[k] = enterDict(state, lag, 'Phase1', p, q)\n",
    "                k = k + 1\n",
    "            else:\n",
    "                ptdf = tdf[tdf['week']>=p1_start]\n",
    "                p ,q= generateCorrelations(ptdf)\n",
    "                ndf[k] = enterDict(state, lag, 'Phase1', p, q)\n",
    "                k = k + 1\n",
    "                continue\n",
    "            if p2_end!=0:\n",
    "                ptdf = tdf[(tdf['week']>=p2_start) & (tdf['week']<=p2_end)]\n",
    "                p ,q= generateCorrelations(ptdf)\n",
    "                ndf[k] = enterDict(state, lag, 'Phase2', p, q)\n",
    "                k = k + 1\n",
    "            else:\n",
    "                ptdf = tdf[tdf['week']>=p2_start]\n",
    "                p ,q= generateCorrelations(ptdf)\n",
    "                ndf[k] = enterDict(state, lag, 'Phase2', p, q)\n",
    "                k = k + 1\n",
    "                continue\n",
    "            if p3_end!=0:\n",
    "                ptdf = tdf[(tdf['week']>=p3_start) & (tdf['week']<=p3_end)]\n",
    "                p ,q= generateCorrelations(ptdf)\n",
    "                ndf[k] = enterDict(state, lag, 'Phase3', p, q)\n",
    "                k = k + 1\n",
    "            else:\n",
    "                ptdf = tdf[tdf['week']>=p3_start]\n",
    "                p ,q= generateCorrelations(ptdf)\n",
    "                ndf[k] = enterDict(state, lag, 'Phase3', p, q)\n",
    "                k = k + 1\n",
    "                continue\n",
    "            if p4_end!=0:\n",
    "                ptdf = tdf[(tdf['week']>=p4_start) & (tdf['week']<=p4_end)]\n",
    "                p ,q= generateCorrelations(ptdf)\n",
    "                ndf[k] = enterDict(state, lag, 'Phase4', p, q)\n",
    "                k = k + 1\n",
    "            else:\n",
    "                ptdf = tdf[tdf['week']>=p4_start]\n",
    "                p ,q= generateCorrelations(ptdf)\n",
    "                ndf[k] = enterDict(state, lag, 'Phase4', p, q)\n",
    "                k = k + 1\n",
    "                continue\n",
    "            if p5_end!=0:\n",
    "                ptdf = tdf[(tdf['week']>=p5_start) & (tdf['week']<=p5_end)]\n",
    "                p ,q= generateCorrelations(ptdf)\n",
    "                ndf[k] = enterDict(state, lag, 'Phase5', p, q)\n",
    "                k = k + 1\n",
    "            else:\n",
    "                ptdf = tdf[tdf['week']>=p5_start]\n",
    "                p ,q= generateCorrelations(ptdf)\n",
    "                ndf[k] = enterDict(state, lag, 'Phase5', p, q)\n",
    "                k = k + 1\n",
    "                continue"
   ],
   "metadata": {
    "collapsed": false,
    "pycharm": {
     "name": "#%%\n"
    }
   }
  },
  {
   "cell_type": "code",
   "execution_count": 5,
   "outputs": [],
   "source": [],
   "metadata": {
    "collapsed": false,
    "pycharm": {
     "name": "#%%\n"
    }
   }
  },
  {
   "cell_type": "code",
   "execution_count": 6,
   "outputs": [],
   "source": [
    "cdf = pd.DataFrame.from_dict(ndf, 'index')\n",
    "\n",
    "cdf_F = cdf.pivot_table(index='Phase', columns=['state','lag'], values='correlation')\n",
    "cdf_F.to_csv('Phases_Casality_All_States_Corr_12302020.csv')\n",
    "\n",
    "cdf_P = cdf.pivot_table(index='Phase', columns=['state','lag'], values='Sig')\n",
    "cdf_P.to_csv('Phases_Casality_All_States_PValue_12302020.csv')"
   ],
   "metadata": {
    "collapsed": false,
    "pycharm": {
     "name": "#%%\n"
    }
   }
  },
  {
   "cell_type": "code",
   "execution_count": 9,
   "outputs": [],
   "source": [
    "writer = pd.ExcelWriter('Correlation_DesCartes_Incidence_Phases_Correlation_01112020.xlsx', engine='xlsxwriter')\n",
    "ncdf = pd.DataFrame.from_dict(ndf, 'index')\n",
    "phases = ncdf['Phase'].unique()\n",
    "stateFrame = pd.read_csv('Data/PeakMonths.csv')\n",
    "for phase in phases:\n",
    "    twrt = ncdf[ncdf['Phase']==phase]\n",
    "    twrt_pivot = twrt.pivot_table(index='state', columns='lag', values='correlation').reset_index()\n",
    "    #print(state, phase)\n",
    "    #print(twrt_pivot.head())\n",
    "    #print(stateFrame.head())\n",
    "    twrt_pivot = pd.merge(stateFrame, twrt_pivot, how='left')\n",
    "    twrt_pivot.sort_values('state', inplace=True)\n",
    "    twrt_pivot.to_excel(writer, index=False, sheet_name=phase)\n",
    "\n",
    "writer.save()"
   ],
   "metadata": {
    "collapsed": false,
    "pycharm": {
     "name": "#%%\n"
    }
   }
  },
  {
   "cell_type": "code",
   "execution_count": 8,
   "outputs": [],
   "source": [
    "\n",
    "writer = pd.ExcelWriter('Correlation_DesCartes_Incidence_Phases_PValue_01112020.xlsx', engine='xlsxwriter')\n",
    "ncdf = pd.DataFrame.from_dict(ndf, 'index')\n",
    "phases = ncdf['Phase'].unique()\n",
    "stateFrame = pd.read_csv('Data/PeakMonths.csv')\n",
    "for phase in phases:\n",
    "    twrt = ncdf[ncdf['Phase']==phase]\n",
    "    twrt_pivot = twrt.pivot_table(index='state', columns='lag', values='sig').reset_index()\n",
    "    #print(state, phase)\n",
    "    #print(twrt_pivot.head())\n",
    "    #print(stateFrame.head())\n",
    "    twrt_pivot = pd.merge(stateFrame, twrt_pivot, how='left')\n",
    "    twrt_pivot.sort_values('state', inplace=True)\n",
    "    twrt_pivot.to_excel(writer, index=False, sheet_name=phase)\n",
    "\n",
    "writer.save()"
   ],
   "metadata": {
    "collapsed": false,
    "pycharm": {
     "name": "#%%\n"
    }
   }
  }
 ],
 "metadata": {
  "kernelspec": {
   "display_name": "Python 3",
   "language": "python",
   "name": "python3"
  },
  "language_info": {
   "codemirror_mode": {
    "name": "ipython",
    "version": 2
   },
   "file_extension": ".py",
   "mimetype": "text/x-python",
   "name": "python",
   "nbconvert_exporter": "python",
   "pygments_lexer": "ipython2",
   "version": "2.7.6"
  }
 },
 "nbformat": 4,
 "nbformat_minor": 0
}