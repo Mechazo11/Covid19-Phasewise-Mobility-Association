{
 "cells": [
  {
   "cell_type": "markdown",
   "metadata": {},
   "source": [
    "- Author: Ravi Teja Bhupatiraju\n",
    "- Needs to be run with Coconut kernel, not Python"
   ]
  },
  {
   "cell_type": "code",
   "execution_count": null,
   "metadata": {
    "scrolled": true
   },
   "outputs": [],
   "source": [
    "import math, re\n",
    "import itertools as it\n",
    "\n",
    "import datetime\n",
    "from dateparser import parse as dtparse\n",
    "from datetime import timedelta\n",
    "from moment import Moment\n",
    "from dateutil.parser import parse as dtparse\n",
    "import us\n",
    "\n",
    "import numpy as np\n",
    "from scipy import stats\n",
    "import pandas as pd\n",
    "import geopandas as gpd\n",
    "from tqdm import tqdm_notebook as nb\n",
    "from tqdm.autonotebook import tqdm\n",
    "\n",
    "import matplotlib as mpl\n",
    "import matplotlib.pyplot as plt\n",
    "import matplotlib.ticker as ticker\n",
    "import matplotlib.patches as mpatches\n",
    "import matplotlib.dates as mdates\n",
    "from matplotlib import rcParams\n",
    "\n",
    "import seaborn as sns\n",
    "from labellines import labelLine, labelLines\n",
    "from pygantt.pygantt import gantt\n",
    "\n",
    "from cycler import cycler\n",
    "from sklearn.preprocessing import minmax_scale\n",
    "from sklearn.cluster import KMeans\n",
    "\n",
    "from IPython.core.display import display, HTML\n",
    "\n",
    "from sciplotlib import style as spstyle\n",
    "natrev = spstyle.get_style('nature-reviews')"
   ]
  },
  {
   "cell_type": "code",
   "execution_count": null,
   "metadata": {},
   "outputs": [],
   "source": [
    "'iris' |> sns.load_dataset |> .plot() # Dummy plot as fix to ensure initialization of graphics"
   ]
  },
  {
   "cell_type": "code",
   "execution_count": null,
   "metadata": {},
   "outputs": [],
   "source": [
    "rcParams['figure.figsize'] = 28, 10\n",
    "plt.rcParams.update({'font.size': 16})\n",
    "\n",
    "tqdm.pandas()\n",
    "'<style>.container { width:100% !important; }</style>' |> HTML |> display"
   ]
  },
  {
   "cell_type": "code",
   "execution_count": null,
   "metadata": {},
   "outputs": [],
   "source": [
    "# utils\n",
    "def foreach(fn, lst):\n",
    "    for e in lst: e |> fn\n",
    "\n",
    "def axsave(ax, fn):\n",
    "    ax.get_figure().savefig(fn, dpi=600)\n",
    "\n",
    "def delete_extra_axes(fix, axes, n):\n",
    "    foreach(fig.delaxes, axes.flatten()[-n:])\n",
    "\n",
    "def reset_plot_settings():\n",
    "    mpl.rcParams.update(mpl.rcParamsDefault)\n",
    "    sns.reset_defaults()"
   ]
  },
  {
   "cell_type": "code",
   "execution_count": null,
   "metadata": {},
   "outputs": [],
   "source": [
    "#!wget https://github.com/descarteslabs/DL-COVID-19/raw/master/DL-us-mobility-daterow.csv -O DL-us-mobility-daterow.csv\n",
    "#!wget https://github.com/CSSEGISandData/COVID-19/raw/master/csse_covid_19_data/csse_covid_19_time_series/time_series_covid19_confirmed_US.csv -O ../time_series_covid19_confirmed_US.csv"
   ]
  },
  {
   "cell_type": "code",
   "execution_count": null,
   "metadata": {
    "scrolled": true
   },
   "outputs": [],
   "source": [
    "# from Ridge NB\n",
    "states_ordered_by_peak = [\n",
    "    #'American Samoa',\n",
    "    'Michigan', 'New Jersey', 'Vermont', 'New Hampshire', 'New York', 'Rhode Island', 'Wyoming', 'Connecticut', 'Pennsylvania', 'Colorado',\n",
    " 'Massachusetts', 'Delaware', 'Nebraska',\n",
    "    'Washington, D.C.', #'District of Columbia',\n",
    "    'Maryland', 'Maine', 'Arizona', 'Florida', 'Tennessee', 'Idaho', 'Nevada', 'Oregon', 'Alabama', 'Georgia', 'North Carolina',\n",
    " 'Alaska', 'Louisiana', 'Oklahoma', 'New Mexico', 'Ohio', 'Missouri', 'Mississippi', 'Washington', 'Virginia', 'Kentucky',\n",
    "    #'Virgin Islands',\n",
    "    'Hawaii', 'California',\n",
    "    #'Guam',\n",
    "    'Indiana', 'Kansas',\n",
    " 'Iowa', 'South Dakota', 'Illinois', 'South Carolina', 'West Virginia', 'Arkansas', 'North Dakota', 'Wisconsin', 'Utah', 'Montana',\n",
    "    #'Puerto Rico', 'Northern Mariana Islands',\n",
    "    'Minnesota', 'Texas']"
   ]
  },
  {
   "cell_type": "code",
   "execution_count": null,
   "metadata": {
    "scrolled": true
   },
   "outputs": [],
   "source": [
    "df_dc = pd.read_csv('DL-us-mobility-daterow.csv')"
   ]
  },
  {
   "cell_type": "code",
   "execution_count": null,
   "metadata": {
    "scrolled": true
   },
   "outputs": [],
   "source": [
    "df_states = (\n",
    "    df_dc\n",
    "    [df_dc.admin_level == 1]\n",
    "    [['date', 'admin1', 'm50_index']]\n",
    "    .rename(columns={'admin1': 'state'})\n",
    "    .pivot(index='date', columns='state')\n",
    "    [['m50_index']]\n",
    ")\n",
    "df_states.to_excel('Descartes_State.xlsx')"
   ]
  },
  {
   "cell_type": "code",
   "execution_count": null,
   "metadata": {
    "scrolled": true
   },
   "outputs": [],
   "source": [
    "df_cases = pd.read_csv('../time_series_covid19_confirmed_US.csv')\n",
    "df_cases.Province_State = df_cases.Province_State.replace('District of Columbia', 'Washington, D.C.')"
   ]
  },
  {
   "cell_type": "code",
   "execution_count": null,
   "metadata": {},
   "outputs": [],
   "source": [
    "# Calc peaks\n",
    "dt_cols = df_cases.columns[11:]\n",
    "df_stsum = df_cases[['Province_State',  *dt_cols]].groupby('Province_State').sum().T.reset_index().rename(columns = {'index': 'Date'})\n",
    "df_stsum['week_no'] = pd.to_datetime(df_stsum['Date']).dt.week.sum()\n",
    "df_ = df_stsum.set_index(['Date', 'week_no']).diff().reset_index()\n",
    "df_ = df_.drop(columns=['Date'])\n",
    "df_ = df_.groupby('week_no').sum().rolling(3, min_periods=1).mean().round(0)"
   ]
  },
  {
   "cell_type": "code",
   "execution_count": null,
   "metadata": {},
   "outputs": [],
   "source": [
    "df_stsum.to_csv('Cases.csv')"
   ]
  },
  {
   "cell_type": "code",
   "execution_count": null,
   "metadata": {},
   "outputs": [],
   "source": [
    "dLookupMax = df_.iloc[:,:].max() |> pd.DataFrame |> .T |> .to_dict('records') |> .[0]"
   ]
  },
  {
   "cell_type": "code",
   "execution_count": null,
   "metadata": {},
   "outputs": [],
   "source": [
    "# Rule dataset\n",
    "dStatePop = pd.read_csv('StatePopulations.csv').set_index('State').T.to_dict('records')[0]\n",
    "dStatePop['Washington, D.C.'] = dStatePop.pop('District of Columbia')"
   ]
  },
  {
   "cell_type": "code",
   "execution_count": null,
   "metadata": {},
   "outputs": [],
   "source": [
    "df = df_stsum.copy()\n",
    "df['week_day'] = df.Date.apply(->Moment(_).weekday)\n",
    "df = df[df.week_day == 7]\n",
    "\n",
    "df_IncPop = pd.DataFrame()\n",
    "df_IncPop['Date'] = df['Date']\n",
    "df_IncPop['week_no'] = df['Date'].apply(->Moment(_).datetime.isocalendar()[1])\n",
    "df_IncPopDiff = df_IncPop.copy()\n",
    "\n",
    "for s in dStatePop:\n",
    "    if s in df.columns:\n",
    "        df_IncPop[s] = round((df[s] / dStatePop[s]) * 100, 2)\n",
    "        df_IncPopDiff[s] = df[s].diff().fillna(0)\n",
    "del df"
   ]
  },
  {
   "cell_type": "code",
   "execution_count": null,
   "metadata": {},
   "outputs": [],
   "source": [
    "df_IncPop.to_csv('StateIncPop.csv')\n",
    "df_IncPopDiff.to_csv('StateIncPopDiff.csv')"
   ]
  },
  {
   "cell_type": "code",
   "execution_count": null,
   "metadata": {},
   "outputs": [],
   "source": [
    "df = df_states.reset_index().copy()\n",
    "df['week_day'] = df.date.apply(->Moment(_).weekday)\n",
    "df['week_no'] = df.date.apply(->Moment(_).datetime.isocalendar()[1])\n",
    "df = df[df.week_day == 7]\n",
    "df.columns = [(x if y == '' else y) for x, y in map(df.columns.get_level_values, [0,1]) |*> zip]\n",
    "df.to_csv('StateWeeklyMobility.csv')"
   ]
  },
  {
   "cell_type": "code",
   "execution_count": null,
   "metadata": {},
   "outputs": [],
   "source": [
    "cols = df.columns[1:-2]\n",
    "df[cols] = df[cols].diff().fillna(0)\n",
    "df.to_csv('StateWeeklyMobilityDiff.csv')"
   ]
  },
  {
   "cell_type": "code",
   "execution_count": null,
   "metadata": {},
   "outputs": [],
   "source": [
    "# divide state cases by pop\n",
    "# 1.) CumlCases 2.) CumlCases/Pop 3.) Diff from previous - all by week (check every Monday - after calc weekno)\n",
    "# to categorical (equidepth binning, adjust width)\n",
    "# do that for mobility as well (just 3 i.e. diff)."
   ]
  },
  {
   "cell_type": "code",
   "execution_count": null,
   "metadata": {},
   "outputs": [],
   "source": [
    "early_states = {}\n",
    "for col in df_.columns:\n",
    "    v = dLookupMax[col]\n",
    "    tdf = df_[[col]].reset_index()\n",
    "    row = tdf[tdf[col]==v]\n",
    "    #print(col, row.iloc[0]['week_no'])\n",
    "    early_states[col] = row.iloc[0][col].astype(int)"
   ]
  },
  {
   "cell_type": "code",
   "execution_count": null,
   "metadata": {},
   "outputs": [],
   "source": [
    "import datetime, isoweek\n",
    "\n",
    "def weekno2month(w):\n",
    "    d = '2020-W' + str(w).zfill(2)\n",
    "    r = datetime.datetime.strptime(d + '-1', \"%Y-W%W-%w\")\n",
    "    return r.month\n",
    "\n",
    "def weekno2date(w):\n",
    "    d = '2020-W' + str(w).zfill(2)\n",
    "    r = datetime.datetime.strptime(d + '-1', \"%Y-W%W-%w\")\n",
    "    return r.date()\n",
    "\n",
    "#weekno2month(54)"
   ]
  },
  {
   "cell_type": "code",
   "execution_count": null,
   "metadata": {},
   "outputs": [],
   "source": [
    "def get_date_with_max_cases(df):\n",
    "    df = df.copy()\n",
    "    df.columns = ['Date', 'Value']\n",
    "    df.Value = df.Value.diff().fillna(0).astype(int)\n",
    "    return df[df.Value == df.Value.max()].Date.values[0]\n",
    "\n",
    "s = 'Alaska'\n",
    "get_date_with_max_cases(df_stsum[['Date', s]])"
   ]
  },
  {
   "cell_type": "code",
   "execution_count": null,
   "metadata": {},
   "outputs": [],
   "source": [
    "g1, g2, g3 = [], [], []\n",
    "for s in df_stsum.columns[1:-1]:\n",
    "    df = df_stsum[['Date', s]]\n",
    "    d = get_date_with_max_cases(df)\n",
    "    m = d.split('/')[0] |> int\n",
    "    #print(s, m)\n",
    "    if m < 7:\n",
    "        s |> g1.append\n",
    "    elif m < 9:\n",
    "        s |> g2.append\n",
    "    else:\n",
    "        s |> g3.append"
   ]
  },
  {
   "cell_type": "code",
   "execution_count": null,
   "metadata": {},
   "outputs": [],
   "source": [
    "#g1, g2, g3"
   ]
  },
  {
   "cell_type": "code",
   "execution_count": null,
   "metadata": {},
   "outputs": [],
   "source": [
    "reset_plot_settings()\n",
    "\n",
    "dt_cols = df_cases.columns[11:]\n",
    "df_ = df_cases[['Province_State',  *dt_cols]].groupby('Province_State').sum().T.reset_index().rename(columns = {'index': 'Date'})\n",
    "\n",
    "df_.Date = df_.Date |> pd.to_datetime\n",
    "df_ = df_.set_index('Date')\n",
    "df_['North Carolina'].diff().rolling(7).mean().plot()"
   ]
  },
  {
   "cell_type": "code",
   "execution_count": null,
   "metadata": {},
   "outputs": [],
   "source": [
    "df_[['New York']].diff().rolling(7).mean().plot()"
   ]
  },
  {
   "cell_type": "code",
   "execution_count": null,
   "metadata": {},
   "outputs": [],
   "source": [
    "df_m = df_dc[['date', 'admin1', 'm50_index', 'admin_level']]\n",
    "df_m[df_m.admin_level == 1][['date', 'admin1', 'm50_index']]\n",
    "df_pivot = pd.pivot_table(df_m, index='date', columns=['admin1'], values='m50_index', aggfunc=np.mean)\n",
    "df_m = df_pivot.applymap(lambda x: 400 if x > 400 else x).rolling(30, min_periods=7).mean()"
   ]
  },
  {
   "cell_type": "code",
   "execution_count": null,
   "metadata": {},
   "outputs": [],
   "source": [
    "rcParams['figure.figsize'] = (30, 8)"
   ]
  },
  {
   "cell_type": "code",
   "execution_count": null,
   "metadata": {},
   "outputs": [],
   "source": [
    "df_m[df_m.columns[:15]].plot(legend=False)\n",
    "labelLines(plt.gca().get_lines(), zorder=2.5)"
   ]
  },
  {
   "cell_type": "code",
   "execution_count": null,
   "metadata": {},
   "outputs": [],
   "source": [
    "df_m[df_m.columns[15:30]].plot(legend=False)\n",
    "labelLines(plt.gca().get_lines(), zorder=2.5)"
   ]
  },
  {
   "cell_type": "code",
   "execution_count": null,
   "metadata": {},
   "outputs": [],
   "source": [
    "df_m[df_m.columns[30:50]].plot(legend=False)\n",
    "labelLines(plt.gca().get_lines(), zorder=2.5)"
   ]
  },
  {
   "cell_type": "code",
   "execution_count": null,
   "metadata": {},
   "outputs": [],
   "source": [
    "df_ = df_m[df_m.columns[:]]\n",
    "cols = df_.columns\n",
    "df_s = pd.melt(df_.reset_index().dropna(), id_vars='date', value_vars=cols)\n",
    "df_speaks = pd.read_excel('../Correlation_DesCartes_Incidence_Phases_Actual_Spearman.xlsx', usecols=['state', 'peak'])\n",
    "df_s = df_s.merge(df_speaks, left_on='admin1', right_on='state').drop(columns='admin1')"
   ]
  },
  {
   "cell_type": "code",
   "execution_count": null,
   "metadata": {},
   "outputs": [],
   "source": [
    "df_speaks.to_csv('StatePeaks.csv', index=False)"
   ]
  },
  {
   "cell_type": "code",
   "execution_count": null,
   "metadata": {},
   "outputs": [],
   "source": [
    "def process(s):\n",
    "    if s < 7:\n",
    "        return 'Early Peak'\n",
    "    elif s < 9:\n",
    "        return 'Mid Peak'\n",
    "    else:\n",
    "        return 'Late Peak'\n",
    "\n",
    "df_s['Peak Group'] = df_s.peak.apply(process)\n",
    "\n",
    "reset_plot_settings()\n",
    "sns.set_style({'font.family': ['Open Sans']})\n",
    "sns.set_style('whitegrid')\n",
    "sns.set(rc={'figure.figsize':(18, 6)})\n",
    "\n",
    "g = sns.lineplot(data=df_s, x='date', y='value', ci='sd', hue='Peak Group')\n",
    "g.set_xlabel('Date')\n",
    "g.set_ylabel('Descartes Index') # TODO Have date as Mar 3 etc\n",
    "g.set_ylim(0, 175)\n",
    "#g.set_xticklabels(labels=df_s.date.apply(->Moment(_).datetime.strftime('%b %d')), rotation=90)\n",
    "\n",
    "# order legend properly\n",
    "handles, labels = plt.gca().get_legend_handles_labels()\n",
    "order = [2,0,1]\n",
    "plt.legend([handles[idx] for idx in order],[labels[idx] for idx in order])\n",
    "\n",
    "new_ticks = [i.get_text() for i in g.get_xticklabels()]\n",
    "_ = plt.xticks(range(0, len(new_ticks), 14), new_ticks[::14])\n",
    "\n",
    "reset_plot_settings()\n",
    "# TODO: Same colors as map. Larger labels, no year in labels."
   ]
  },
  {
   "cell_type": "code",
   "execution_count": null,
   "metadata": {},
   "outputs": [],
   "source": [
    "# get mean drop of cases by Peak Group\n",
    "df_s[['date', 'value', 'state', 'Peak Group']].groupby('state').min().groupby('Peak Group').mean().reset_index().rename(columns={'value': 'MeanMinMob'}).round()"
   ]
  },
  {
   "cell_type": "code",
   "execution_count": null,
   "metadata": {},
   "outputs": [],
   "source": [
    "# get current return by Peak Group\n",
    "df_ = df_s[['date', 'value', 'state', 'Peak Group']].copy()\n",
    "df_['date'] = df_.date |> pd.to_datetime\n",
    "df_[df_.date > '2020-09-01' |> pd.to_datetime].groupby('state').max().groupby('Peak Group').mean().reset_index().rename(columns={'value': 'MeanMaxMob'}).round()"
   ]
  },
  {
   "cell_type": "code",
   "execution_count": null,
   "metadata": {},
   "outputs": [],
   "source": [
    "axsave(g, 'StateBandsV2.png')"
   ]
  },
  {
   "cell_type": "code",
   "execution_count": null,
   "metadata": {},
   "outputs": [],
   "source": [
    "#sns.lineplot\n",
    "rcParams['figure.figsize'] = (30, 8)\n",
    "df_m[df_m.columns[:15]].plot(legend=False)\n",
    "labelLines(plt.gca().get_lines(), zorder=2.5)"
   ]
  },
  {
   "cell_type": "code",
   "execution_count": null,
   "metadata": {
    "scrolled": true
   },
   "outputs": [],
   "source": [
    "df_ = df_cases[['Province_State', *df_cases.columns[11:]]].groupby('Province_State').sum()\n",
    "df_.columns = ['c_' + c for c in df_.columns]"
   ]
  },
  {
   "cell_type": "code",
   "execution_count": null,
   "metadata": {
    "scrolled": true
   },
   "outputs": [],
   "source": [
    "df_deaths = pd.read_csv('../time_series_covid19_deaths_US.csv')\n",
    "df_deaths.Province_State = df_deaths.Province_State.replace('District of Columbia', 'Washington, D.C.')\n",
    "\n",
    "dMaxCases = df_cases[['Province_State', df_cases.columns[-1]]].groupby('Province_State').sum().T.to_dict('records')[0]\n",
    "dMaxDeaths = df_deaths[['Province_State', df_deaths.columns[-1]]].groupby('Province_State').sum().T.to_dict('records')[0]\n",
    "\n",
    "df_pop = pd.read_csv('PopState.csv')\n",
    "dPop = df_pop[['State', 'Pop_sqmi']].set_index('State')[['Pop_sqmi']].T.to_dict('records')[0]"
   ]
  },
  {
   "cell_type": "code",
   "execution_count": null,
   "metadata": {
    "scrolled": true
   },
   "outputs": [],
   "source": [
    "def get_state_stats(n): return pd.read_excel('StateStats.xlsx', sheet_name=n).set_index('State')\n",
    "def ljoin(df1, df2): return df1.join(df2, how='left', lsuffix='_')\n",
    "\n",
    "df_phouse, df_dens, df_mhi, df_testing = map(get_state_stats, ['PerHouse', 'PopDensity', 'MedHIncome', 'Testing'])"
   ]
  },
  {
   "cell_type": "code",
   "execution_count": null,
   "metadata": {
    "scrolled": true
   },
   "outputs": [],
   "source": [
    "df_wave = pd.read_csv('single_wave_simulation_incidence.csv')\n",
    "df_wave = df_wave.set_index('week').T\n",
    "df_wave.columns = ['w' + str(c).zfill(2) for c in df_wave.columns]"
   ]
  },
  {
   "cell_type": "code",
   "execution_count": null,
   "metadata": {
    "scrolled": true
   },
   "outputs": [],
   "source": [
    "df = df_phouse |> ljoin$(df_dens) |> ljoin$(df_mhi)\n",
    "df = df[df.columns |> filter$(->'Rank' not in _)].fillna('—').replace('—', '')\n",
    "\n",
    "df_ = df_states.T.reset_index().set_index('state')\n",
    "df_.columns = [c.replace('2020', 'M_2020') for c in df_.columns]\n",
    "df = df.join(df_.iloc[:,1:], how='left')\n",
    "\n",
    "df = df.join(df_wave).fillna('')"
   ]
  },
  {
   "cell_type": "code",
   "execution_count": null,
   "metadata": {
    "scrolled": true
   },
   "outputs": [],
   "source": [
    "df.to_csv('StateDemo.csv')"
   ]
  },
  {
   "cell_type": "code",
   "execution_count": null,
   "metadata": {
    "scrolled": true
   },
   "outputs": [],
   "source": [
    "states = [col[1] for col in df_states.columns]\n",
    "#states"
   ]
  },
  {
   "cell_type": "code",
   "execution_count": null,
   "metadata": {},
   "outputs": [],
   "source": [
    "# Cases only\n",
    "if True:\n",
    "    states = states_ordered_by_peak#[:2]\n",
    "    fig, axes = plt.subplots(ncols=4,nrows=13, sharex=True, sharey=False, figsize=(30, 60))\n",
    "else:\n",
    "    states = states_ordered_by_peak[:2]\n",
    "    fig, axes = plt.subplots(ncols=2,nrows=1, sharex=True, sharey=False, figsize=(10, 5))\n",
    "\n",
    "for i, ax in enumerate(axes.flatten()):\n",
    "    if i < len(states):\n",
    "        s = states[i]\n",
    "        df_cases[df_cases.Province_State == s][[*df_cases.columns[11:]]].reset_index(drop=True).sum().diff().rolling(7).mean().plot(ax=ax, title=s)\n",
    "\n",
    "#fig.suptitle('Cases', fontsize=16) # not sure why it is not at top\n",
    "plt.tight_layout()\n",
    "fig.savefig('Cases.png')"
   ]
  },
  {
   "cell_type": "code",
   "execution_count": null,
   "metadata": {},
   "outputs": [],
   "source": [
    "# Mobility vs. cases 36s\n",
    "def transform_case_death(df, state, field):\n",
    "    df_c = df[df.Province_State == state][['Province_State', *df.columns[11:]]].groupby('Province_State').sum().T.diff().rolling(7).mean().reset_index()\n",
    "    df_c.columns = ['date', field]\n",
    "    df_c['date'] = df_c['date'].apply(dtparse)\n",
    "    df_c[field] = df_c[field].fillna(0).apply(int)\n",
    "    mx = df_c[field].max()\n",
    "    df_c[field] = df_c[field].values |> minmax_scale\n",
    "    df_c[field] = df_c[field].apply(->_ * 100 |> int)\n",
    "    return mx, df_c\n",
    "    \n",
    "def mob_cases(s):\n",
    "    df_s = df_states[[('m50_index', s)]]\n",
    "    df_s = df_s.rolling(7).mean().reset_index()\n",
    "    df_s.columns = ['date', 'mobility']\n",
    "    df_s.date = df_s.date.apply(dtparse)\n",
    "    mxc, df_c = transform_case_death(df_cases, s, 'cases')\n",
    "    #mxd, df_d = transform_case_death(df_deaths, s, 'deaths')\n",
    "    \n",
    "    df_res = df_s.set_index('date').join(df_c.set_index('date'), how='left')#.join(df_d.set_index('date'), how='left')\n",
    "    return df_res, mxc\n",
    "\n",
    "#states = [col[1] for col in df_states.columns]\n",
    "states = states_ordered_by_peak#[:2]\n",
    "\n",
    "fig, axes = plt.subplots(ncols=4,nrows=13, sharex=False, sharey=False, figsize=(30, 60))\n",
    "#fig, axes = plt.subplots(ncols=2,nrows=1, sharex=True, sharey=False, figsize=(10, 5))\n",
    "\n",
    "for i, ax in enumerate(axes.flatten()):\n",
    "    if i < len(states):\n",
    "        state = states[i]\n",
    "        df_mob_cases, mx = mob_cases(state)\n",
    "        mxc = dMaxCases[state]\n",
    "        mxd = dMaxDeaths[state]\n",
    "        popd = dPop.get(state, '')\n",
    "        df_mob_cases.rolling(7).mean().plot(ax=ax, title=f'{state} Max Cases: {mxc}  Max Deaths: {mxd}\\n  PopDens: {popd}', legend=True)\n",
    "\n",
    "#fig.canvas.set_window_title('Mobility') # not working\n",
    "fig.suptitle('Mobility', fontsize=16)\n",
    "plt.tight_layout()"
   ]
  },
  {
   "cell_type": "code",
   "execution_count": null,
   "metadata": {
    "scrolled": true
   },
   "outputs": [],
   "source": [
    "fig.savefig('Demo.png')"
   ]
  },
  {
   "cell_type": "code",
   "execution_count": null,
   "metadata": {},
   "outputs": [],
   "source": [
    "df_stay = pd.read_csv('Stay.csv')\n",
    "df_stay = df_stay[['State', 'Order Date', 'Expire Date']].rename(columns={'Order Date': 'Start', 'Expire Date': 'Finish'})\n",
    "\n",
    "df_stay['State'] = df_stay['State'].str.replace('*', '')\n",
    "\n",
    "df_stay['Start'] = pd.to_datetime(df_stay['Start'])\n",
    "df_stay['Finish'] = pd.to_datetime(df_stay['Finish'])\n",
    "\n",
    "df_stay['Type'] = 'main'\n",
    "fig = plt.figure(figsize=(30,22))\n",
    "gantt(task=df_stay.State, start=df_stay.Start, finish=df_stay.Finish, task_type=df_stay.Type, color={'main':'steelblue', 'sub':'lightgreen'})\n",
    "plt.title('Stay At Home Orders', {'fontsize': 14, 'fontweight' : 'heavy'});\n",
    "fig.savefig('StayAtHome.png')"
   ]
  },
  {
   "cell_type": "code",
   "execution_count": null,
   "metadata": {
    "scrolled": true
   },
   "outputs": [],
   "source": [
    "df_cons = pd.read_csv('State_Consolidated_Mobility_Miles_New_Actionable_Oct20.csv')\n",
    "df_cons['startDayWeek'] = df_cons['startDayWeek'] |> pd.to_datetime"
   ]
  },
  {
   "cell_type": "code",
   "execution_count": null,
   "metadata": {},
   "outputs": [],
   "source": [
    "def lag_read(sheet, idx):\n",
    "    return pd.read_excel('Correlation_DesCartes_Incidence_Phases_Actual_Extended.xlsx', sheet_name=sheet)[['state', idx]].set_index('state').T.to_dict('records')[0]\n",
    "\n",
    "dState_cs = lag_read('CompleteSeries', -4)\n",
    "dState_p1 = lag_read('Phase1', -3)\n",
    "dState_p2 = lag_read('Phase2', -2)\n",
    "dState_p3 = lag_read('Phase3', -5)\n",
    "dState_p4 = lag_read('Phase4', -3)\n",
    "\n",
    "def dict_get(k, d):\n",
    "    v = d.get(k, '')\n",
    "    if v == '':\n",
    "        return v\n",
    "    elif math.isnan(v):\n",
    "        return ''\n",
    "    else:\n",
    "        return round(v, 2)"
   ]
  },
  {
   "cell_type": "code",
   "execution_count": null,
   "metadata": {},
   "outputs": [],
   "source": [
    "df_phases = pd.read_csv('phases_phase1(20201020_153121).csv')\n",
    "\n",
    "def phase_slices(state):\n",
    "    end_points = df_phases[state].tolist()\n",
    "    #del end_points[2]\n",
    "    return list(zip(end_points, end_points[1:]))"
   ]
  },
  {
   "cell_type": "code",
   "execution_count": null,
   "metadata": {},
   "outputs": [],
   "source": [
    "def closest_date(dt, dates):\n",
    "    dt = dt |> dtparse\n",
    "    vals= map((->dt - _), dates) |> map$(->abs(_)) |> list\n",
    "    return vals |> min |> vals.index\n",
    "\n",
    "#linestyles = ['-', '--', '-.', ':']"
   ]
  },
  {
   "cell_type": "code",
   "execution_count": null,
   "metadata": {},
   "outputs": [],
   "source": [
    "df = 'Mask_Mandates.csv' |> pd.read_csv\n",
    "df['State'] = df['State'].apply(->re.findall('\\[(.*?)\\]', _)[0])\n",
    "cols = ['CATEGORY', 'Requirement Date']\n",
    "df[cols] = df[cols].fillna('')\n",
    "df = df[['State', 'Requirement Date', 'Masks Required', 'CATEGORY']]\n",
    "dDate, dM, dC = df.set_index('State').T.to_dict('records')\n",
    "dMask = {k: (dDate[k] |> pd.to_datetime, dM[k], dC[k]) for k in dDate}\n",
    "#df.to_csv('Mask.csv')"
   ]
  },
  {
   "cell_type": "code",
   "execution_count": null,
   "metadata": {},
   "outputs": [],
   "source": [
    "def week_firstday(p_year, p_week):\n",
    "    return datetime.datetime.strptime(f'{p_year}-W{int(p_week )- 1}-1', \"%Y-W%W-%w\").date()\n",
    "\n",
    "def subplot(df, ax, f, ls, c):\n",
    "    df[[f]].rename(columns={'cases': 'cases', 'desCartes': 'mobility', 'Incidence': 'LGM'}).plot(ax=ax, linestyle=ls, color=c)"
   ]
  },
  {
   "cell_type": "code",
   "execution_count": null,
   "metadata": {},
   "outputs": [],
   "source": [
    "%%time\n",
    "# TODO: Move mandate left\n",
    "# TODO: startDayofWeek to Month\n",
    "end_date = '2020-11-15' |> pd.to_datetime\n",
    "fig, axes = plt.subplots(ncols=4, nrows=13, sharex=False, sharey=False, figsize=(30, 60))\n",
    "states = df_cons.state.unique()# |> .[2]\n",
    "\n",
    "import matplotlib.patches as mpatches\n",
    "\n",
    "pp = (c, l)->mpatches.Patch(color=c, label=l, alpha=0.1)\n",
    "r1 = pp('#6D904F', 'Phase 1')\n",
    "r2 = pp('#E5AE38', 'Phase 2')\n",
    "r3 = pp('#008FD5', 'Phase 3')\n",
    "r4 = pp('#810F7C', 'Phase 4')\n",
    "legend1 = plt.legend(handles=[r1, r2, r3, r4], loc=2)\n",
    "\n",
    "#plt.style.use('presentation2.mplstyle')\n",
    "reset_plot_settings()\n",
    "with plt.style.context('presentation2.mplstyle') as c:\n",
    "    all_data = {}\n",
    "    for i, ax in axes.flatten() |> enumerate:\n",
    "        if states |> len > i:\n",
    "            state = states[i]\n",
    "            \n",
    "            # title\n",
    "            mxc = dMaxCases[state]\n",
    "            mxd = dMaxDeaths[state]\n",
    "            popd = dPop.get(state, '')\n",
    "            cs, p1, p2, p3, p4 = [dict_get(state, d) for d in (dState_cs, dState_p1, dState_p2, dState_p3, dState_p4)]\n",
    "            ax.set_title(f'{state}')\n",
    "            #ax.set_title(f'{state} Max Cases: {mxc}  Max Deaths: {mxd}  PopDens: {popd}\\n CS: {cs} P1: {p1} P2: {p2} P3: {p3} P4: {p4}')\n",
    "            \n",
    "            # scale and subplot\n",
    "            df = df_cons[df_cons.state == state][['startDayWeek', 'cases', 'desCartes', 'Incidence']].copy()\n",
    "            df = df.set_index('startDayWeek')\n",
    "            df = df[~df.index.duplicated(keep='first')].copy() # fix. Should I be using df_cons at all?\n",
    "            \n",
    "            df['desCartes'] = df['desCartes'].rolling(2, min_periods=1).mean()\n",
    "            df[['cases', 'desCartes', 'Incidence']] = df[['cases', 'desCartes', 'Incidence']] |> minmax_scale\n",
    "            \n",
    "            sp = subplot$(df, ax)\n",
    "            sp('cases', '--', 'C0')\n",
    "            sp('Incidence', '-', 'C0')\n",
    "            sp('desCartes', '-', 'C1')\n",
    "            \n",
    "            # phase colors\n",
    "            colors = ('#6D904F', '#E5AE38', '#008FD5', '#810F7C')\n",
    "            try:\n",
    "                for i, phase in phase_slices(state) |> enumerate:\n",
    "                    s, f = phase\n",
    "                    ss = week_firstday(2020, s)\n",
    "                    ff = week_firstday(2020, f)\n",
    "                    ax.axvspan(ss, ff, alpha=0.1, color=colors[i])\n",
    "            except:\n",
    "                pass\n",
    "            \n",
    "            all_data[state] = df\n",
    "            \n",
    "            # stay-at-home block\n",
    "            df_fill = df_stay[df_stay.State == state]\n",
    "            if df_fill.shape[0] > 0:\n",
    "                \n",
    "                # start and finish dates\n",
    "                ff = (->_.tolist()[0]) ..> str ..> (->_[:10] if type(_) != pd.NaT else _) ..> pd.to_datetime\n",
    "                s = df_fill.Start  |> ff\n",
    "                f = df_fill.Finish |> ff\n",
    "                f = end_date if type(f) == pd.NaT |> type else f\n",
    "                \n",
    "                args = dict(ymin=0.10, ymax=0.90, alpha=0.1, color='#008FD5', zorder=3)\n",
    "                ax.axvspan(s, f, **args, ) if s != f else ax.axvspan(s, end_date, **args) # is -2 justified? 32 is xmax.\n",
    "                \n",
    "                #weeks = pd.Int64Index(df.index.isocalendar().week)\n",
    "                weeks = pd.Int64Index(df.index.week)\n",
    "                xlim = (weeks.min(), weeks.max())\n",
    "                \n",
    "                ax2 = ax.twiny()\n",
    "                ax2.set_xlim(xlim)\n",
    "                ax2.set_xlabel(r'Week numbers')\n",
    "            \n",
    "            # masking\n",
    "            dt, m, c = dMask[state]\n",
    "            if '2020' in str(dt):\n",
    "                lbl = f'{c}, {m}'\n",
    "                ax.axvline(x=dt, color='#FC4F30')\n",
    "                ax.text(dt - timedelta(days=7), 0.2, lbl)\n",
    "                \n",
    "            ax.set_xlabel('Month')\n",
    "    \n",
    "    fig.add_artist(legend1)\n",
    "    foreach(fig.delaxes, axes.flatten()[-2:])\n",
    "plt.tight_layout()"
   ]
  },
  {
   "cell_type": "code",
   "execution_count": null,
   "metadata": {
    "scrolled": true
   },
   "outputs": [],
   "source": [
    "fig.savefig('StateCurves_538Hex.png', dpi=300)"
   ]
  },
  {
   "cell_type": "code",
   "execution_count": null,
   "metadata": {},
   "outputs": [],
   "source": [
    "peak_states = ['Idaho','Ohio','Oregon','Texas','Nevada','Hawaii','Georgia','Florida','Alabama','Tennessee','Arizona',\n",
    "               'California','Mississippi','Iowa','Louisiana','Kentucky','New Mexico','Washington','North Carolina','South Carolina']\n",
    "non_peak_states = states |> set |> .difference(peak_states |> set) |> list"
   ]
  },
  {
   "cell_type": "code",
   "execution_count": null,
   "metadata": {},
   "outputs": [],
   "source": [
    "%%time\n",
    "# Mask Paper Jan 4\n",
    "\n",
    "reset_plot_settings()\n",
    "\n",
    "font_size = 30\n",
    "mpl.rcParams['font.size'] = font_size\n",
    "\n",
    "end_date = '2020-11-15' |> pd.to_datetime\n",
    "fig, axes = plt.subplots(ncols=6, nrows=9, sharex=False, sharey=False, figsize=(50, 60))\n",
    "states = df_cons.state.unique()\n",
    "\n",
    "pp = (c, l)->mpatches.Patch(color=c, label=l, alpha=0.1)\n",
    "r1 = pp('#6D904F', 'Phase 1')\n",
    "r2 = pp('#E5AE38', 'Phase 2')\n",
    "r3 = pp('#008FD5', 'Phase 3')\n",
    "r4 = pp('#810F7C', 'Phase 4')\n",
    "\n",
    "#with natrev |> plt.style.context:\n",
    "with plt.style.context('presentation2.mplstyle') as c:\n",
    "    all_data = {}\n",
    "    for i, ax in axes.flatten() |> enumerate:\n",
    "        if states |> len > i:\n",
    "            state = states[i]\n",
    "            ax.set_title(f'{state}', fontsize=font_size)\n",
    "            \n",
    "            # scale and subplot\n",
    "            df = df_cons[df_cons.state == state][['startDayWeek', 'cases', 'desCartes', 'Incidence']].copy()\n",
    "            df = df.set_index('startDayWeek')\n",
    "            df = df[~df.index.duplicated(keep='first')].copy() # fix. Should I be using df_cons at all?\n",
    "            \n",
    "            df['desCartes'] = df['desCartes'].rolling(2, min_periods=1).mean()\n",
    "            df[['cases', 'desCartes', 'Incidence']] = df[['cases', 'desCartes', 'Incidence']] |> minmax_scale\n",
    "            \n",
    "            sp = subplot$(df, ax)\n",
    "            sp('cases', '--', 'C0')\n",
    "            sp('Incidence', '-', 'C0')\n",
    "            sp('desCartes', '-', 'C1')\n",
    "            \n",
    "            # phase colors\n",
    "            colors = ('#6D904F', '#E5AE38', '#008FD5', '#810F7C')\n",
    "            try:\n",
    "                for i, phase in phase_slices(state) |> enumerate:\n",
    "                    s, f = phase\n",
    "                    ss = week_firstday(2020, s)\n",
    "                    ff = week_firstday(2020, f)\n",
    "                    ax.axvspan(ss, ff, alpha=0.1, color=colors[i])\n",
    "            except:\n",
    "                pass\n",
    "            \n",
    "            # highlight\n",
    "            if state in peak_states:\n",
    "                for side in ['bottom', 'top', 'right', 'left']:\n",
    "                    ax.spines[side].set_color('red')\n",
    "                    ax.spines[side].set_linewidth(4.0)\n",
    "                    ax.spines[side].set_linestyle('--')\n",
    "            \n",
    "            ax.set_xlabel('') # no need for month\n",
    "            all_data[state] = df\n",
    "            handles, labels = ax.get_legend_handles_labels()\n",
    "            ax.get_legend().remove()\n",
    "    \n",
    "    legend1 = plt.legend(handles=[r1, r2, r3, r4], loc='lower right', bbox_to_anchor=(0, -1.2), fontsize='x-large')\n",
    "    fig.legend(handles, labels, loc='lower right', bbox_to_anchor=(0.9, 0.035), fontsize='x-large')\n",
    "    fig.add_artist(legend1)\n",
    "    foreach(fig.delaxes, axes.flatten()[-4:])\n",
    "    plt.title('Figure 3', loc='left')\n",
    "    plt.tight_layout()"
   ]
  },
  {
   "cell_type": "code",
   "execution_count": null,
   "metadata": {},
   "outputs": [],
   "source": [
    "fig.savefig('StateCurves_Highlighted_8.png', dpi=300)"
   ]
  },
  {
   "cell_type": "code",
   "execution_count": null,
   "metadata": {},
   "outputs": [],
   "source": [
    "df_reopen = pd.read_csv('../Reopening_Phases.csv')\n",
    "toDate = (-> _ |> Moment |> .datetime)\n",
    "df_reopen['StartDate'] = df_reopen.StartDate.apply(toDate)\n",
    "df_reopen['EndDate'] = df_reopen.EndDate.apply(toDate)\n",
    "df_mask =  pd.read_csv('../MaskMandatesv2.csv')"
   ]
  },
  {
   "cell_type": "code",
   "execution_count": null,
   "metadata": {},
   "outputs": [],
   "source": [
    "# 'startDayWeek', 'cases', 'desCartes'\n",
    "date_cols = df_cases.columns[11:].tolist()\n",
    "df1 = df_cases[['Province_State', *date_cols]].groupby('Province_State').sum().diff(axis=1).reset_index().melt(id_vars='Province_State', var_name='startDayWeek', value_name='cases').rename(columns={'Province_State': 'state'})\n",
    "#df1['startDayWeek'] = df1['startDayWeek'].apply(-> _ |> Moment |> .strftime('%Y-%m-%d'))\n",
    "df1['startDayWeek'] = df1['startDayWeek'].apply(-> _ |> Moment |> .date)\n",
    "df1['cases'] = df1['cases'].fillna(0).apply(int)\n",
    "\n",
    "def process(c):\n",
    "    return c[0] if c[1] == '' else c[1]\n",
    "\n",
    "df2 = df_states.reset_index()\n",
    "df2.columns = [process(c) for c in df2.columns]\n",
    "df2 = df2.melt(id_vars='date', var_name='state', value_name='Descartes').rename(columns={'date': 'startDayWeek'})\n",
    "df2['startDayWeek'] = df2['startDayWeek'].apply(-> _ |> Moment |> .date)\n",
    "\n",
    "df3 = df1.merge(df2)"
   ]
  },
  {
   "cell_type": "code",
   "execution_count": null,
   "metadata": {},
   "outputs": [],
   "source": [
    "df3 = df3[df3.startDayWeek <= '2020-11-30' |> pd.to_datetime]"
   ]
  },
  {
   "cell_type": "code",
   "execution_count": null,
   "metadata": {},
   "outputs": [],
   "source": [
    "def get_change_weeks(state, df_mask):\n",
    "    df_ = df_mask[df_mask.state == state]\n",
    "    c = df_.columns.tolist()[1:]\n",
    "    v = df_.values[0][1:].tolist()\n",
    "    data = zip(c, v) |> list\n",
    "    \n",
    "    weeks, phases = [], []\n",
    "    pw, po = None, None\n",
    "    for i, (w, o) in data |> enumerate:\n",
    "        \n",
    "        # first case. pw and po not initialized\n",
    "        if not pw:\n",
    "            pw = w\n",
    "            po = o\n",
    "            weeks.append(w)\n",
    "            phases.append(v[i])\n",
    "            continue\n",
    "        \n",
    "        # change\n",
    "        if o != po:\n",
    "            weeks.append(w)\n",
    "            phases.append(v[i])\n",
    "        \n",
    "        # set prev\n",
    "        pw = w\n",
    "        po = o\n",
    "    \n",
    "    # add last week as bound\n",
    "    weeks.append(w)\n",
    "    \n",
    "    return weeks, phases"
   ]
  },
  {
   "cell_type": "code",
   "execution_count": null,
   "metadata": {},
   "outputs": [],
   "source": [
    "%%time\n",
    "# TODO: Adjust time frame to June-Nov                    # get new df_cons from updated State_Consolidated_Mobility_Miles_New_Actionable_Oct20.csv\n",
    "# TODO: No need for LGM curve and phases                 Done\n",
    "# TODO: Social distancing phases (ReopeningPhases.csv)   Done\n",
    "# TODO: Mask Mandate Phases (MaskMandatesV2.csv)         Done\n",
    "# Question: Do we need masking line? Remove              Done\n",
    "# TODO: arulesViz visualization                          Later\n",
    "\n",
    "# TODO: startDayofWeek to Month\n",
    "tilldate = '2020-11-30' |> pd.to_datetime\n",
    "fig, axes = plt.subplots(ncols=4, nrows=13, sharex=False, sharey=False, figsize=(30, 60))\n",
    "states = df_cons.state.unique()\n",
    "\n",
    "phase_index = {\n",
    "    'N': '#008fd5',\n",
    "    'M': '#fc4f30',\n",
    "    'C': '#e5ae38',\n",
    "    'R': '#6d904f',\n",
    "}\n",
    "\n",
    "phase_index = {\n",
    "    'N': 'o',\n",
    "    'M': '.',\n",
    "    'C': 'x',\n",
    "    'R': '|',\n",
    "}\n",
    "\n",
    "a_val = 0.2\n",
    "hN = mpatches.Patch(facecolor='none', alpha=a_val, hatch='o', label='No Mandate')\n",
    "hM = mpatches.Patch(facecolor='none', alpha=a_val, hatch='.', label='State Mandate')\n",
    "hC = mpatches.Patch(facecolor='none', alpha=a_val, hatch='x', label='County Mandate')\n",
    "hR = mpatches.Patch(facecolor='none', alpha=a_val, hatch='|', label='Recommended')\n",
    "\n",
    "reset_plot_settings()\n",
    "\n",
    "plt.rcParams['hatch.linewidth'] = 0.5\n",
    "plt.rcParams['hatch.color']     = 'grey'\n",
    "\n",
    "with plt.style.context('presentation.mplstyle') as c:\n",
    "    all_data = {}\n",
    "    for i, ax in axes.flatten() |> enumerate:\n",
    "        ax.set_xlabel(False)\n",
    "        if states |> len > i:\n",
    "            state = states[i]\n",
    "            \n",
    "            # scale and subplot\n",
    "            df = df3[df3.state == state][['startDayWeek', 'cases', 'Descartes']].copy()\n",
    "            df = df.rename(columns={'startDayWeek': 'month'})\n",
    "            df = df.set_index('month')\n",
    "            df['Descartes'] = df['Descartes'].rolling(7, min_periods=1).mean()\n",
    "            df['cases'] = df['cases'].rolling(7, min_periods=1).mean()\n",
    "            df[['cases', 'Descartes']] = df[['cases', 'Descartes']] |> minmax_scale\n",
    "            \n",
    "            sp = subplot$(df, ax)\n",
    "            sp('cases', '--', 'C0')\n",
    "            sp('Descartes', '-', 'C1')\n",
    "            \n",
    "            # phase colors\n",
    "            colors = ['#008fd5', '#fc4f30', '#e5ae38', '#6d904f', '#8b8b8b', '#810f7c']\n",
    "            \n",
    "            # reopen phases\n",
    "            for i, r in df_reopen[df_reopen.State == state].sort_values('StartDate').iterrows():\n",
    "                s = r['StartDate']\n",
    "                e = r['EndDate']\n",
    "                p = r['Phase']\n",
    "                ax.axvspan(s, e, ymin=0, ymax=1.0, alpha=0.1, color=colors[p])\n",
    "            \n",
    "            # mask phases\n",
    "            weeks, phases = get_change_weeks(state, df_mask)\n",
    "            weeks = map(weekno2date, weeks) |> list\n",
    "            week_ranges = zip(weeks, weeks[1:]) |> list\n",
    "\n",
    "            for i, (s, e) in week_ranges |> enumerate:\n",
    "                ax.axvspan(\n",
    "                    s, e, ymin=0.0, ymax=1.0, alpha=0.01,\n",
    "                    #color=phase_index[phases[i]],\n",
    "                    facecolor='None',\n",
    "                    #edgecolor ='red',\n",
    "                    hatch=phase_index[phases[i]],\n",
    "                )\n",
    "        #ax.legend(handles = [circ1,circ2,circ3], loc=2)\n",
    "        legend1 = ax.legend(handles = [hN, hM, hC, hR], loc=2, )   \n",
    "        #legend2 = ax.legend(handles = [circ1,circ2,circ3], loc=4)\n",
    "\n",
    "        ax.add_artist(legend1)\n",
    "        #ax.add_artist(legend2)\n",
    "                           \n",
    "    # remove empty plots in grid and tighten\n",
    "    foreach(fig.delaxes, axes.flatten()[-2:])\n",
    "    plt.tight_layout()"
   ]
  },
  {
   "cell_type": "code",
   "execution_count": null,
   "metadata": {},
   "outputs": [],
   "source": [
    "#!wget \"https://en.wikipedia.org/wiki/List_of_states_and_territories_of_the_United_States_by_population\"# -o StatePop.html"
   ]
  },
  {
   "cell_type": "code",
   "execution_count": null,
   "metadata": {},
   "outputs": [],
   "source": [
    "df_pop = pd.read_html('https://en.wikipedia.org/wiki/List_of_states_and_territories_of_the_United_States_by_population')[0].iloc[:, 2:4]\n",
    "df_pop.columns = ['State', 'Pop']"
   ]
  },
  {
   "cell_type": "code",
   "execution_count": null,
   "metadata": {},
   "outputs": [],
   "source": [
    "df_pop.to_csv('Pop.csv', index=False)"
   ]
  },
  {
   "cell_type": "code",
   "execution_count": null,
   "metadata": {},
   "outputs": [],
   "source": [
    "#df_pop = pd.read_html('https://en.wikipedia.org/wiki/List_of_states_and_territories_of_the_United_States_by_population')[0][[('State', 'State'), ('Census population', 'EstimatedJuly 1, 2019[8]')]]\n",
    "#df_pop.columns = ['State', 'Pop']"
   ]
  },
  {
   "cell_type": "code",
   "execution_count": null,
   "metadata": {},
   "outputs": [],
   "source": [
    "df_pop = pd.read_csv('Pop.csv')"
   ]
  },
  {
   "cell_type": "code",
   "execution_count": null,
   "metadata": {},
   "outputs": [],
   "source": [
    "%%time\n",
    "# TODO: Adjust time frame to June-Nov                    # get new df_cons from updated State_Consolidated_Mobility_Miles_New_Actionable_Oct20.csv\n",
    "# TODO: No need for LGM curve and phases                 Done\n",
    "# TODO: Social distancing phases (ReopeningPhases.csv)   Done\n",
    "# TODO: Mask Mandate Phases (MaskMandatesV2.csv)         Done\n",
    "# Question: Do we need masking line? Remove              Done\n",
    "# TODO: arulesViz visualization                          Later\n",
    "# TODO: startDayofWeek to Month                          Done\n",
    "\n",
    "# TODO: Y Axis                                           Done\n",
    "# TODO: Legend                                           Done (except for titles)\n",
    "# TODO: State name larger                                Done\n",
    "\n",
    "tilldate = '2020-11-30' |> pd.to_datetime\n",
    "fig, axes = plt.subplots(ncols=4, nrows=13, sharex=False, sharey=True, figsize=(30, 60))\n",
    "#fig, axes = plt.subplots(ncols=2, nrows=1, sharex=False, sharey=True, figsize=(30, 9))\n",
    "states = df_cons.state.unique()\n",
    "\n",
    "phase_index = {\n",
    "    'N': '#008fd5',\n",
    "    'M': '#fc4f30',\n",
    "    'C': '#e5ae38',\n",
    "    'R': '#6d904f',\n",
    "}\n",
    "\n",
    "pp = (c, l)->mpatches.Patch(color=c, label=l, alpha=0.1)\n",
    "p1 = pp('#008fd5', 'No Mandate')\n",
    "p2 = pp('#fc4f30', 'State Mandate')\n",
    "p3 = pp('#e5ae38', 'County Mandate')\n",
    "p4 = pp('#6d904f', 'Recommended')\n",
    "\n",
    "r1 = pp('#008fd5', 'Phase 0')\n",
    "r2 = pp('#fc4f30', 'Phase 1')\n",
    "r3 = pp('#e5ae38', 'Phase 2')\n",
    "r4 = pp('#6d904f', 'Phase 3')\n",
    "r5 = pp('#8b8b8b', 'Phase 4')\n",
    "r6 = pp('#810f7c', 'Phase 5')\n",
    "\n",
    "def subplot2(df, ax, f, ls, c):\n",
    "    return df[[f]].rename(columns={\n",
    "        #'cases': 'cases',\n",
    "        'desCartes': 'mobility',\n",
    "        'Incidence': 'LGM'}).plot(ax=ax, linestyle=ls, color=c)\n",
    "\n",
    "reset_plot_settings()\n",
    "\n",
    "#states2 = ['Louisiana', 'Mississippi']\n",
    "with plt.style.context('presentation2.mplstyle',) as c:\n",
    "    font = {\n",
    "        #'family' : 'normal',\n",
    "        #'weight' : 'bold',\n",
    "        'size'   : 12,\n",
    "    }\n",
    "    \n",
    "    mpl.rc('font', **font)\n",
    "    plt.rcParams['xtick.labelsize'] = 40\n",
    "\n",
    "    \n",
    "    all_data = {}\n",
    "    for i, ax in axes.flatten() |> enumerate:\n",
    "        \n",
    "        ax.set_ylabel('Cases per 100K')\n",
    "        \n",
    "        if states |> len > i:\n",
    "            state = states[i]\n",
    "            ax.set_title(state, fontdict = {'fontsize': 16})\n",
    "            \n",
    "            # scale and subplot\n",
    "            df = df3[df3.state == state][['startDayWeek', 'cases', 'Descartes']].copy()\n",
    "            df = df[df.startDayWeek >= '2020-06-01' |> pd.to_datetime]\n",
    "            \n",
    "            df = df.rename(columns={'startDayWeek': 'month'})\n",
    "            df = df.set_index('month')\n",
    "            df['Descartes'] = df['Descartes'].rolling(7, min_periods=1).mean()\n",
    "            df['cases'] = df['cases'].rolling(7, min_periods=1).mean()\n",
    "            \n",
    "            # per capita\n",
    "            pop = df_pop[df_pop.State == state].Pop.values[0] |> int\n",
    "            df['cases_pcapita'] = (df['cases'] / pop) * 100_000\n",
    "            \n",
    "            df[['cases', 'Descartes']] = df[['cases', 'Descartes']] |> minmax_scale\n",
    "            df[['Descartes']] = df[['Descartes']] |> minmax_scale\n",
    "            \n",
    "            #display(df)\n",
    "            sp = subplot2$(df, ax)\n",
    "            p = sp('cases_pcapita', '-', 'C1')\n",
    "            df.reset_index().plot('month','Descartes',secondary_y=True, ax=p, color='C0', linestyle='--', alpha=0.1)\n",
    "            \n",
    "            #p = sp('Descartes', '-', 'C1')\n",
    "            \n",
    "            '%b' |> mdates.DateFormatter |> ax.xaxis.set_major_formatter\n",
    "            \n",
    "            # phase colors\n",
    "            colors = ['#008fd5', '#fc4f30', '#e5ae38', '#6d904f', '#8b8b8b', '#810f7c']\n",
    "            \n",
    "            # reopen phases\n",
    "            df_r = df_reopen[df_reopen.StartDate >= '2020-06-01' |> pd.to_datetime].copy()\n",
    "            for i, r in df_r[df_r.State == state].sort_values('StartDate').iterrows():\n",
    "                s = r['StartDate']\n",
    "                e = r['EndDate']\n",
    "                p = r['Phase']\n",
    "                #ax.axvspan(s, e, ymin=.52, ymax=1, alpha=0.1, color=colors[p])\n",
    "            \n",
    "            # mask phases\n",
    "            \n",
    "            #mask_colors = ['#008fd5', '#fc4f30', '#e5ae38', '#6d904f', '#8b8b8b', '#810f7c']\n",
    "            \n",
    "            c = df_mask.columns[1:]\n",
    "            c = [x for x in c if int(x) >= 21]\n",
    "            df_m = df_mask[['state', *c]]\n",
    "            weeks, phases = get_change_weeks(state, df_m)\n",
    "            weeks = map(weekno2date, weeks) |> list\n",
    "            week_ranges = zip(weeks, weeks[1:]) |> list\n",
    "            \n",
    "            for i, (s, e) in week_ranges |> enumerate:\n",
    "                #ax.axvspan(s, e, ymin=0.0, ymax=0.48, alpha=0.1, color=phase_index[phases[i]])\n",
    "                ax.axvspan(s, e, ymin=0.0, ymax=1, alpha=0.1, color=phase_index[phases[i]])\n",
    "            \n",
    "    # remove empty plots in grid and tighten\n",
    "    foreach(fig.delaxes, axes.flatten()[-2:])\n",
    "    plt.tight_layout()\n",
    "    \n",
    "legend1 = plt.legend(handles=[p1, p2, p3, p4], loc='lower right', bbox_to_anchor=(2.8, 0), handlelength=4, labelspacing=2, borderpad=2, title='Mask Mandates')\n",
    "legend2 = plt.legend(handles=[r1, r2, r3, r4, r5, r6], loc='lower right', bbox_to_anchor=(2.4, 0), handlelength=4, labelspacing=2, borderpad=2, title='Mask Phases')\n",
    "\n",
    "for legend in [legend1, legend2]:\n",
    "    for patch in legend.get_patches():\n",
    "        patch.set_height(22)\n",
    "\n",
    "fig.add_artist(legend1)\n",
    "fig.add_artist(legend2)"
   ]
  },
  {
   "cell_type": "code",
   "execution_count": null,
   "metadata": {},
   "outputs": [],
   "source": [
    "fig.savefig('MaskPhases3All_1200.png', dpi=600)"
   ]
  },
  {
   "cell_type": "code",
   "execution_count": null,
   "metadata": {},
   "outputs": [],
   "source": [
    "%%time\n",
    "# TODO: Adjust time frame to June-Nov                    # get new df_cons from updated State_Consolidated_Mobility_Miles_New_Actionable_Oct20.csv\n",
    "# TODO: No need for LGM curve and phases                 Done\n",
    "# TODO: Social distancing phases (ReopeningPhases.csv)   Done\n",
    "# TODO: Mask Mandate Phases (MaskMandatesV2.csv)         Done\n",
    "# Question: Do we need masking line? Remove              Done\n",
    "# TODO: arulesViz visualization                          Later\n",
    "# TODO: startDayofWeek to Month                          Done\n",
    "\n",
    "# TODO: Y Axis                                           Done\n",
    "# TODO: Legend                                           Done (except for titles)\n",
    "# TODO: State name larger                                Done\n",
    "\n",
    "tilldate = '2020-11-30' |> pd.to_datetime\n",
    "fig, axes = plt.subplots(ncols=4, nrows=13, sharex=False, sharey=True, figsize=(30, 60))\n",
    "#fig, axes = plt.subplots(ncols=4, nrows=1, sharex=False, sharey=True, figsize=(30, 5))\n",
    "states = df_cons.state.unique()\n",
    "\n",
    "phase_index = {\n",
    "    'N': '#008fd5',\n",
    "    'M': '#fc4f30',\n",
    "    'C': '#e5ae38',\n",
    "    'R': '#6d904f',\n",
    "}\n",
    "\n",
    "pp = (c, l)->mpatches.Patch(color=c, label=l, alpha=0.1)\n",
    "p1 = pp('#008fd5', 'No Mandate')\n",
    "p2 = pp('#fc4f30', 'State Mandate')\n",
    "p3 = pp('#e5ae38', 'County Mandate')\n",
    "p4 = pp('#6d904f', 'Recommended')\n",
    "\n",
    "r1 = pp('#008fd5', 'Phase 0')\n",
    "r2 = pp('#fc4f30', 'Phase 1')\n",
    "r3 = pp('#e5ae38', 'Phase 2')\n",
    "r4 = pp('#6d904f', 'Phase 3')\n",
    "r5 = pp('#8b8b8b', 'Phase 4')\n",
    "r6 = pp('#810f7c', 'Phase 5')\n",
    "\n",
    "reset_plot_settings()\n",
    "#states2 = ['Louisiana', 'Mississippi', 'Iowa', 'Georgia']\n",
    "with plt.style.context('presentation2.mplstyle',) as c:\n",
    "    font = {\n",
    "        #'family' : 'normal',\n",
    "        #'weight' : 'bold',\n",
    "        'size'   : 12\n",
    "    }\n",
    "    \n",
    "    mpl.rc('font', **font)\n",
    "    \n",
    "    all_data = {}\n",
    "    for i, ax in axes.flatten() |> enumerate:\n",
    "        \n",
    "        ax.set_ylabel('Mobility')\n",
    "        \n",
    "        if states |> len > i:\n",
    "            state = states[i]\n",
    "            ax.set_title(state, fontdict = {'fontsize': 16})\n",
    "            \n",
    "            # scale and subplot\n",
    "            df = df3[df3.state == state][['startDayWeek', 'cases', 'Descartes']].copy()\n",
    "            df = df[df.startDayWeek >= '2020-06-01' |> pd.to_datetime]\n",
    "            \n",
    "            df = df.rename(columns={'startDayWeek': 'month'})\n",
    "            df = df.set_index('month')\n",
    "            df['Descartes'] = df['Descartes'].rolling(7, min_periods=1).mean()\n",
    "            df['cases'] = df['cases'].rolling(7, min_periods=1).mean()\n",
    "            \n",
    "            # per capita\n",
    "            pop = df_pop[df_pop.State == state].Pop.values[0] |> int\n",
    "            df['cases_pcapita'] = (df['cases'] / pop) * 100_000\n",
    "            \n",
    "            df[['cases', 'Descartes']] = df[['cases', 'Descartes']] |> minmax_scale\n",
    "            df[['Descartes']] = df[['Descartes']] |> minmax_scale\n",
    "            \n",
    "            sp = subplot$(df, ax)\n",
    "            sp('cases_pcapita', '--', 'C0')\n",
    "            sp('Descartes', '-', 'C1')\n",
    "            '%b' |> mdates.DateFormatter |> ax.xaxis.set_major_formatter\n",
    "            \n",
    "            # phase colors\n",
    "            colors = ['#008fd5', '#fc4f30', '#e5ae38', '#6d904f', '#8b8b8b', '#810f7c']\n",
    "            \n",
    "            # reopen phases\n",
    "            df_r = df_reopen[df_reopen.StartDate >= '2020-06-01' |> pd.to_datetime].copy()\n",
    "            for i, r in df_r[df_r.State == state].sort_values('StartDate').iterrows():\n",
    "                s = r['StartDate']\n",
    "                e = r['EndDate']\n",
    "                p = r['Phase']\n",
    "                ax.axvspan(s, e, ymin=.52, ymax=1, alpha=0.1, color=colors[p])\n",
    "            \n",
    "            # mask phases\n",
    "            \n",
    "            #mask_colors = ['#008fd5', '#fc4f30', '#e5ae38', '#6d904f', '#8b8b8b', '#810f7c']\n",
    "            \n",
    "            c = df_mask.columns[1:]\n",
    "            c = [x for x in c if int(x) >= 21]\n",
    "            df_m = df_mask[['state', *c]]\n",
    "            weeks, phases = get_change_weeks(state, df_m)\n",
    "            weeks = map(weekno2date, weeks) |> list\n",
    "            week_ranges = zip(weeks, weeks[1:]) |> list\n",
    "            \n",
    "            for i, (s, e) in week_ranges |> enumerate:\n",
    "                ax.axvspan(s, e, ymin=0.0, ymax=0.48, alpha=0.1, color=phase_index[phases[i]])\n",
    "            \n",
    "            all_data[state] = df\n",
    "    # remove empty plots in grid and tighten\n",
    "    foreach(fig.delaxes, axes.flatten()[-2:])\n",
    "    plt.tight_layout()\n",
    "    \n",
    "legend1 = plt.legend(handles=[p1, p2, p3, p4], loc='lower right', bbox_to_anchor=(1.8, 0), handlelength=4, labelspacing=2, borderpad=2, title='Mask Mandates')\n",
    "legend2 = plt.legend(handles=[r1, r2, r3, r4, r5, r6], loc='lower right', bbox_to_anchor=(1.4, 0), handlelength=4, labelspacing=2, borderpad=2, title='Mask Phases')\n",
    "\n",
    "for legend in [legend1, legend2]:\n",
    "    for patch in legend.get_patches():\n",
    "        patch.set_height(22)\n",
    "\n",
    "fig.add_artist(legend1)\n",
    "fig.add_artist(legend2)"
   ]
  },
  {
   "cell_type": "code",
   "execution_count": null,
   "metadata": {},
   "outputs": [],
   "source": [
    "fig.savefig('MaskPhases.png', dpi=600)"
   ]
  },
  {
   "cell_type": "code",
   "execution_count": null,
   "metadata": {},
   "outputs": [],
   "source": [
    "reset_plot_settings()\n",
    "\n",
    "#states = [col[1] for col in df_states.columns]\n",
    "states = states_ordered_by_peak#[:2]\n",
    "\n",
    "fig, axes = plt.subplots(ncols=4,nrows=13, sharex=False, sharey=False, figsize=(30, 60))\n",
    "#fig, axes = plt.subplots(ncols=2,nrows=1, sharex=True, sharey=False, figsize=(10, 5))\n",
    "\n",
    "for i, ax in enumerate(axes.flatten()):\n",
    "    if i < len(states):\n",
    "        state = states[i]\n",
    "        df_mob_cases, mx = mob_cases(state)\n",
    "        mxc = dMaxCases[state]\n",
    "        mxd = dMaxDeaths[state]\n",
    "        popd = dPop.get(state, '')\n",
    "        df_mob_cases.rolling(7).mean().plot(ax=ax, title=f'{state} Max Cases: {mxc} Max Deaths: {mxd}\\n PopDens: {popd}', legend=True)\n",
    "\n",
    "#fig.canvas.set_window_title('Mobility') # not working\n",
    "#fig.suptitle('Mobility', fontsize=16) # works but not well positioned\n",
    "delete_extra_axes(fig, axes, 1)\n",
    "plt.tight_layout()"
   ]
  },
  {
   "cell_type": "code",
   "execution_count": null,
   "metadata": {
    "scrolled": true
   },
   "outputs": [],
   "source": [
    "fig.savefig('Descartes_State.png', bbox_inches='tight', pad_inches=0)"
   ]
  },
  {
   "cell_type": "code",
   "execution_count": null,
   "metadata": {},
   "outputs": [],
   "source": [
    "# How much did mobility drop between given dates\n",
    "rows = []\n",
    "for state in all_data:\n",
    "    df = all_data[state]\n",
    "    s = df[df.index == '2020-06-29' |> pd.to_datetime].Descartes.values[0]\n",
    "    e = df[df.index == '2020-09-28' |> pd.to_datetime].Descartes.values[0]\n",
    "    row = {'state': state, 'start': s, 'end': e}\n",
    "    rows.append(row)\n",
    "df = pd.DataFrame(rows)\n",
    "#df['diff'] = df['start'] - df['end']\n",
    "#df.to_csv('MobilityDiff.csv')"
   ]
  },
  {
   "cell_type": "code",
   "execution_count": null,
   "metadata": {},
   "outputs": [],
   "source": [
    "df.head()"
   ]
  },
  {
   "cell_type": "code",
   "execution_count": null,
   "metadata": {},
   "outputs": [],
   "source": [
    "df_ = df_dens.join(df_cases[['Province_State', *df_cases.columns[11:]]].groupby('Province_State').sum())"
   ]
  },
  {
   "cell_type": "code",
   "execution_count": null,
   "metadata": {},
   "outputs": [],
   "source": [
    "def process(r):\n",
    "    pop = r.Pop_2013 |> int\n",
    "    return (r.iloc[4:].astype('int') / pop) * 100_000\n",
    "df_adjc = df_.apply(process, axis=1).round(2)"
   ]
  },
  {
   "cell_type": "code",
   "execution_count": null,
   "metadata": {},
   "outputs": [],
   "source": [
    "df_ = df_adjc[df_adjc.index.isin(peak_states)].T\n",
    "df_.index = df_.index |> pd.to_datetime\n",
    "df_ = df_[df_.index > '2020-03-01' |> pd.to_datetime]\n",
    "df_.index = df_.index |> .strftime('%Y-%m-%d')\n",
    "\n",
    "ax = df_.iloc[:, :].plot(figsize=(30, 10), fontsize=12, legend=False, alpha=0.7, linewidth=5)\n",
    "labelLines(plt.gca().get_lines(),zorder=2.5)"
   ]
  },
  {
   "cell_type": "code",
   "execution_count": null,
   "metadata": {},
   "outputs": [],
   "source": [
    "df_adjc[df_adjc.index.isin(non_peak_states)].T.plot(figsize=(30, 10))"
   ]
  },
  {
   "cell_type": "code",
   "execution_count": null,
   "metadata": {},
   "outputs": [],
   "source": [
    "df_adjc.T.max().sort_values().plot(kind='bar', figsize=(26, 10)) # states ranked by worst infection rates"
   ]
  },
  {
   "cell_type": "code",
   "execution_count": null,
   "metadata": {},
   "outputs": [],
   "source": [
    "def safe_default(v):\n",
    "    def decorator(f):\n",
    "        def applicator(*args, **kwargs):\n",
    "            try:\n",
    "                return f(*args,**kwargs)\n",
    "            except:\n",
    "                 return v\n",
    "        return applicator\n",
    "    return decorator"
   ]
  },
  {
   "cell_type": "code",
   "execution_count": null,
   "metadata": {},
   "outputs": [],
   "source": [
    "# max cases vs. max mobility\n",
    "\n",
    "st_dt, end_dt = '2020-03-01', '2020-12-28'\n",
    "\n",
    "df_adjcT = df_adjc.T\n",
    "df_adjcT.index = df_adjcT.index |> pd.to_datetime\n",
    "df_sc = pd.DataFrame(df_adjcT[(df_adjcT.index > st_dt |> pd.to_datetime) & (df_adjcT.index < end_dt |> pd.to_datetime)].max(), columns=['cases100K'])\n",
    "\n",
    "@safe_default('')\n",
    "def process(s):\n",
    "    df = mob_cases(s.name)[0]\n",
    "    df['month'] = df.index.map(->_.strftime('%m'))\n",
    "    return round(df[['mobility', 'month']].groupby('month').median().max().values[0], 2)\n",
    "\n",
    "df_sc['max_mob'] = df_sc.apply(process, axis=1)\n",
    "df_sc['cases_n'] = ((df_sc.cases100K |> minmax_scale) * 4).round(2)"
   ]
  },
  {
   "cell_type": "code",
   "execution_count": null,
   "metadata": {},
   "outputs": [],
   "source": [
    "df_sc.reset_index()[['cases100K', 'max_mob']].corr()"
   ]
  },
  {
   "cell_type": "code",
   "execution_count": null,
   "metadata": {},
   "outputs": [],
   "source": [
    "df_adjcT.to_csv('Adj.csv')"
   ]
  },
  {
   "cell_type": "code",
   "execution_count": null,
   "metadata": {},
   "outputs": [],
   "source": [
    "df_sc.to_csv('sc.csv')"
   ]
  },
  {
   "cell_type": "code",
   "execution_count": null,
   "metadata": {},
   "outputs": [],
   "source": [
    "reset_plot_settings()\n",
    "fig = plt.figure()\n",
    "fig.set_size_inches(24, 8)\n",
    "#ax = df_sc2.plot.scatter(x='cases100K', y='max_mob', figsize=(27, 10), s='max_mob_n', cmap='PuOr', alpha=0.4)\n",
    "\n",
    "sns.set(font_scale=1)\n",
    "sns.set_style('whitegrid')\n",
    "g = sns.scatterplot(data=df_sc, x='cases100K', y='max_mob', size='cases_n', legend=False)\n",
    "g.set_xlabel('Cases per 100K')\n",
    "g.set_ylabel('Maximum Mobility')\n",
    "for k, v in df_sc.iterrows():\n",
    "    #c = 'lightblue' if k in peak_states else 'grey'\n",
    "    if k in g1:\n",
    "        c = 'red'\n",
    "    elif k in g2:\n",
    "        c = 'green'\n",
    "    elif k in g3:\n",
    "        c = 'blue'\n",
    "    g.annotate(k, (v['cases100K'], v['max_mob']), color=c)\n",
    "plt.tight_layout()\n",
    "#g.get_figure().savefig('StateScatterGroups.png', dpi=600)"
   ]
  },
  {
   "cell_type": "code",
   "execution_count": null,
   "metadata": {},
   "outputs": [],
   "source": [
    "reset_plot_settings()\n",
    "fig = plt.figure()\n",
    "fig.set_size_inches(24, 8)\n",
    "sns.set(font_scale=1)\n",
    "sns.set_style('darkgrid')\n",
    "g = sns.scatterplot(data=df_sc, x='cases100K', y='max_mob', size='cases_n', legend=False)\n",
    "g.set_xlabel('Cases per 100K')\n",
    "g.set_ylabel('Maximum Mobility')\n",
    "for k, v in df_sc.iterrows():\n",
    "    g.annotate(us.states.lookup(k).abbr, (v['cases100K'], v['max_mob']), color=c)\n",
    "plt.tight_layout()\n",
    "g.get_figure().savefig('StateScatterGroups2.png', dpi=600)"
   ]
  },
  {
   "cell_type": "code",
   "execution_count": null,
   "metadata": {},
   "outputs": [],
   "source": [
    "print('Low Mob, Low Cases')\n",
    "print('-' * 80)\n",
    "df_sc[(df_sc.max_mob < 80) & (df_sc.cases100K < 4000)].index.tolist() |> print\n",
    "print('High Mob, Low Cases')\n",
    "print('-' * 80)\n",
    "df_sc[(df_sc.max_mob > 80) & (df_sc.cases100K < 4000)].index.tolist() |> print\n",
    "print('Low Mob, High Cases')\n",
    "print('-' * 80)\n",
    "df_sc[(df_sc.max_mob < 80) & (df_sc.cases100K > 4000)].index.tolist() |> print\n",
    "print('High Mob, High Cases')\n",
    "print('-' * 80)\n",
    "df_sc[(df_sc.max_mob > 80) & (df_sc.cases100K > 4000)].index.tolist() |> print"
   ]
  },
  {
   "cell_type": "code",
   "execution_count": null,
   "metadata": {},
   "outputs": [],
   "source": [
    "#df_spp = df_s[['state', 'Peak Time', 'Peak Group']]\n",
    "df_spp = df_s[['state', 'peak', 'Peak Group']]\n",
    "df_scm = df_spp.merge(df_sc.reset_index(), left_on='state', right_on='State')"
   ]
  },
  {
   "cell_type": "code",
   "execution_count": null,
   "metadata": {},
   "outputs": [],
   "source": [
    "sns.set_palette('tab10')\n",
    "g = sns.lmplot(data=df_scm.reset_index(), x='cases100K', y='max_mob', hue='Peak Group', fit_reg=False)\n",
    "sns.regplot(data=df_scm.reset_index(), x='cases100K', y='max_mob', scatter=False, ax=g.axes[0,0])"
   ]
  },
  {
   "cell_type": "code",
   "execution_count": null,
   "metadata": {},
   "outputs": [],
   "source": [
    "df_us = gpd.read_file('../../../general/maps/cb2018/cb_2018_us_state_500k.shp')\n",
    "df_sp2 = pd.read_excel('../Correlation_DesCartes_Incidence_Phases_Actual_Spearman.xlsx', 'Phase2', usecols=['state', 'peak'])"
   ]
  },
  {
   "cell_type": "code",
   "execution_count": null,
   "metadata": {},
   "outputs": [],
   "source": [
    "df_us['geonum'] = df_us.GEOID.apply(int)\n",
    "df_us = df_us[(df_us.geonum < 60) & (df_us.geonum != 2) & (df_us.geonum != 15)].sort_values(by='geonum').copy()"
   ]
  },
  {
   "cell_type": "code",
   "execution_count": null,
   "metadata": {},
   "outputs": [],
   "source": [
    "df_map = df_sp2.merge(df_us[['NAME', 'geometry']], left_on='state', right_on='NAME')[['state', 'peak', 'geometry']]\n",
    "\n",
    "def process(p):\n",
    "    if p < 7:\n",
    "        return '1. Early Peak'\n",
    "    elif p < 9:\n",
    "        return '2. Mid Peak'\n",
    "    else:\n",
    "        return '3. Late Peak'\n",
    "\n",
    "df_map['grp'] = df_map.peak.apply(process)\n",
    "df_map = gpd.GeoDataFrame(df_map)"
   ]
  },
  {
   "cell_type": "code",
   "execution_count": null,
   "metadata": {},
   "outputs": [],
   "source": [
    "df_map.head()"
   ]
  },
  {
   "cell_type": "code",
   "execution_count": null,
   "metadata": {},
   "outputs": [],
   "source": [
    "# TODO: Label States. Legend OK at half width. \n",
    "df_map['coords'] = df_map['geometry'].apply(->_.representative_point().coords[:])\n",
    "df_map['coords'] = [coords[0] for coords in df_map['coords']]\n",
    "\n",
    "with mpl.style.context('seaborn-white'):\n",
    "    #c = mpl.colors.LinearSegmentedColormap.from_list('', ['#71bc83', '#5aa6c8', '#ec6b58'])\n",
    "    #c = mpl.colors.LinearSegmentedColormap.from_list('', ['green', 'blue', 'red'])\n",
    "    c = mpl.colors.LinearSegmentedColormap.from_list('', ['#CCDCD6', '#CAD2E4', '#EAD8D3'])\n",
    "    ax = df_map.plot(column='grp', cmap = c, legend=True, categorical=True, edgecolor='white', figsize=(20, 6))\n",
    "    ax.set_xticks([])\n",
    "    ax.set_yticks([])\n",
    "    #plt.legend(['grp'], fontsize='xx-large')\n",
    "    leg = ax.get_legend()\n",
    "    leg.set_bbox_to_anchor((.85, 0.1, 0.2, 0.2))\n",
    "    plt.box(on=None)\n",
    "    for idx, row in df_map.iterrows():\n",
    "        plt.annotate(text=us.states.lookup(row['state']).abbr, xy=row['coords'], horizontalalignment='center', size=14)\n",
    "plt.tight_layout()"
   ]
  },
  {
   "cell_type": "code",
   "execution_count": null,
   "metadata": {},
   "outputs": [],
   "source": [
    "axsave(ax, 'StatePeakGroupsV3.png')"
   ]
  },
  {
   "cell_type": "code",
   "execution_count": null,
   "metadata": {},
   "outputs": [],
   "source": [
    "with natrev |> plt.style.context:\n",
    "    #c = mpl.colors.LinearSegmentedColormap.from_list('', ['#71bc83', '#5aa6c8', '#ec6b58'])\n",
    "    #c = mpl.colors.LinearSegmentedColormap.from_list('', ['green', 'blue', 'red'])\n",
    "    c = mpl.colors.LinearSegmentedColormap.from_list('', ['#CCDCD6', '#CAD2E4', '#EAD8D3'])\n",
    "    ax = df_map.plot(column='grp', cmap = c, legend=True, categorical=True, edgecolor='white', figsize=(20, 6))\n",
    "    ax.set_xticks([])\n",
    "    ax.set_yticks([])\n",
    "    #plt.legend(['grp'], fontsize='xx-large')\n",
    "    leg = ax.get_legend()\n",
    "    leg.set_bbox_to_anchor((.85, 0.1, 0.2, 0.2))\n",
    "    plt.box(on=None)\n",
    "    for idx, row in df_map.iterrows():\n",
    "        plt.annotate(text=us.states.lookup(row['state']).abbr, xy=row['coords'], horizontalalignment='center', size=10)\n",
    "plt.title('Figure 2', loc='left')\n",
    "plt.tight_layout()"
   ]
  },
  {
   "cell_type": "code",
   "execution_count": null,
   "metadata": {},
   "outputs": [],
   "source": [
    "axsave(ax, 'StatePeakGroupsV-Fig2.png')"
   ]
  },
  {
   "cell_type": "code",
   "execution_count": null,
   "metadata": {},
   "outputs": [],
   "source": [
    "# Figure 1 - map of United states with peak for every state (3 classes/colors)\n",
    "# cmaps = ['Greys', 'Purples', 'Blues', 'Greens', 'Oranges', 'Reds', 'YlOrBr', 'YlOrRd', 'OrRd', 'PuRd', 'RdPu', 'BuPu', 'GnBu', 'PuBu', 'YlGnBu', 'PuBuGn', 'BuGn', 'YlGn']\n",
    "\n",
    "# fig, axes = plt.subplots(18, 1, figsize=(30, 200))\n",
    "# faxes = axes.flatten()\n",
    "# for i, c in cmaps |> enumerate:\n",
    "#     ax = faxes[i]\n",
    "#     ax.set_title(c)\n",
    "#     df_map.plot(column='grp', cmap = c, legend=True, categorical=True, ax=ax)\n",
    "# fig.savefig('cmaps.png')"
   ]
  },
  {
   "cell_type": "code",
   "execution_count": null,
   "metadata": {},
   "outputs": [],
   "source": [
    "# Figure 2 - Update the mobility chart with label\n",
    "# Figure 3 - Scatterplot: average descartes Index and percapita cases with regression line (? - Same as above?)\n",
    "reset_plot_settings()\n",
    "df_sc2 = df_sc.copy()\n",
    "df_sc2['max_mob'] = df_sc2['max_mob'].apply(->_ if _ <=100 else 100)\n",
    "\n",
    "with sns.plotting_context('paper', font_scale=0.8) as c:\n",
    "    sns.set_style('whitegrid')\n",
    "    sns.set_style({'font.family': ['Open Sans']})\n",
    "    sns.set_style({'font.weight': ['bold']})\n",
    "    sns.set(rc={'figure.figsize':(12, 6)})\n",
    "    \n",
    "    # plot\n",
    "    g = sns.regplot(\n",
    "        data=df_sc2.reset_index(),\n",
    "        x='cases100K', y='max_mob', ci=95,\n",
    "        scatter_kws={'s': 10, 'edgecolor': 'black', 'facecolor': 'black'},\n",
    "        line_kws={'color': 'blue', 'alpha': 0.5},\n",
    "        \n",
    "    )\n",
    "    g.set_xlabel('Cases per 100K', fontweight='bold', fontsize=12)\n",
    "    g.set_ylabel('Maximum Mobility', fontweight='bold', fontsize=12)\n",
    "    g.set_xticks(range(0, 8100, 500))\n",
    "    g.set_yticks(range(50, 110, 5))\n",
    "    g.set_title('Correlation between Incidence and Mobility Change across US Mainland States')\n",
    "    #g.set_xticklabels(rotation=90)\n",
    "    \n",
    "    # label points\n",
    "    for s in df_sc2.index:\n",
    "        df = df_sc2[df_sc2.index == s].copy()\n",
    "        x = df.cases100K.values[0]\n",
    "        y = df.max_mob.values[0]\n",
    "        g.annotate(us.states.lookup(s).abbr, (df['cases100K'] + 90, df['max_mob'] - 1))\n",
    "del df_sc2"
   ]
  },
  {
   "cell_type": "code",
   "execution_count": null,
   "metadata": {},
   "outputs": [],
   "source": [
    "from scipy import stats\n",
    "\n",
    "#stats.pearsonr('cases100K', 'max_mob', data=df_sc.reset_index())"
   ]
  },
  {
   "cell_type": "code",
   "execution_count": null,
   "metadata": {},
   "outputs": [],
   "source": [
    "axsave(g, 'MobilityIncidenceV3.png')"
   ]
  },
  {
   "cell_type": "code",
   "execution_count": null,
   "metadata": {},
   "outputs": [],
   "source": [
    "rcParams['figure.figsize'] = 28, 10\n",
    "# Figure 4 - All 5 phases scatter plots: Incidence rate and mobility for the state of FLorida\n",
    "\n",
    "df_sp = pd.read_excel$('../Correlation_DesCartes_Incidence_Phases_Actual_Spearman.xlsx')\n",
    "for i in range(1, 5+1):\n",
    "    exec(f\"df_sp{i} = df_sp('Phase{i}')\")\n",
    "\n",
    "fig, axes = plt.subplots(2, 3)\n",
    "for i, ax in axes.flatten()[:5] |> enumerate:\n",
    "    df = f'df_sp{i+1}' |> eval\n",
    "    df[df.columns.drop('peak')].set_index('state').T[['Florida']].plot(ax=ax)\n",
    "    #sns.lineplot(data=df[df.columns.drop('peak')].set_index('state').T[['Florida']], ax=ax)\n",
    "\n",
    "foreach(fig.delaxes, axes.flatten()[-1:])"
   ]
  },
  {
   "cell_type": "code",
   "execution_count": null,
   "metadata": {},
   "outputs": [],
   "source": [
    "fig.savefig('IncidenceMobilityPhases.png', dpi=600)"
   ]
  },
  {
   "cell_type": "code",
   "execution_count": null,
   "metadata": {},
   "outputs": [],
   "source": [
    "# Figure 4 - All 5 phases scatter plots: Incidence rate and mobility for the state of FLorida\n",
    "\n",
    "df_sp = pd.read_excel$('../Correlation_DesCartes_Incidence_Phases_Actual_Spearman.xlsx')\n",
    "for i in range(1, 5+1):\n",
    "    exec(f\"df_sp{i} = df_sp('Phase{i}')\")\n",
    "\n",
    "fig, axes = plt.subplots(2, 3)\n",
    "for i, ax in axes.flatten()[:5] |> enumerate:\n",
    "    df = f'df_sp{i+1}' |> eval\n",
    "    df[df.columns.drop('peak')].set_index('state').T[['Louisiana']].plot(ax=ax)\n",
    "    #sns.lineplot(data=df[df.columns.drop('peak')].set_index('state').T[['Florida']], ax=ax)\n",
    "\n",
    "foreach(fig.delaxes, axes.flatten()[-1:])"
   ]
  },
  {
   "cell_type": "code",
   "execution_count": null,
   "metadata": {},
   "outputs": [],
   "source": [
    "# Figure 5 - All correlations lag 0-8 as time series with confidence Interval\n",
    "df_xy = df_sp2[(df_sp2.peak == 7) | (df_sp2.peak == 8)]\n",
    "df_xy = df_xy.melt(id_vars=['state'], value_vars=np.arange(-1, -10, -1), value_name='corr', var_name='lag')\n",
    "df_xy.lag = df_xy.lag * -1\n",
    "ax = sns.pointplot(data=df_xy, x='lag', y='corr', ci='sd', capsize=0.1)\n",
    "_ = ax.set(xlabel='Time Lag in Weeks', ylabel='Correlation Coefficients')"
   ]
  },
  {
   "cell_type": "code",
   "execution_count": null,
   "metadata": {},
   "outputs": [],
   "source": [
    "axsave(ax, 'CorrLag.png')"
   ]
  },
  {
   "cell_type": "code",
   "execution_count": null,
   "metadata": {},
   "outputs": [],
   "source": [
    "# TODO Add Florida phase graph\n",
    "reset_plot_settings()\n",
    "names = ['All Phases', 'Phase 1 (Exponential Growth)', 'Phase 2 (Fast Growth)', 'Phase 3 (Negative Growth)', 'Phase 4 (Slow Growth)',  'Phase 5 (Ending)']\n",
    "\n",
    "def reg(df, ax, i):\n",
    "    f = sns.regplot(data=df, x='desCartes', y='Incidence', ax=ax)\n",
    "    f.set_title(names[i])\n",
    "    f.set_xlabel('Descartes Index')\n",
    "    f.set_ylabel('Incidence')\n",
    "\n",
    "slices = phase_slices('Florida')\n",
    "df = df_cons[df_cons.state == 'Florida'][['week', 'desCartes', 'Incidence']]\n",
    "df.desCartes = df.desCartes.shift(6)\n",
    "df = df.iloc[6:]\n",
    "\n",
    "with sns.plotting_context('paper', font_scale=1.2) as c:\n",
    "    fig, axes = plt.subplots(2, 3, figsize=(15, 6))\n",
    "    faxes = axes.flatten()\n",
    "    #display(df)\n",
    "    reg(df, faxes[0], 0)\n",
    "    \n",
    "    for i, pslice in phase_slices('Florida') |> enumerate:\n",
    "        s, e = pslice\n",
    "        df_ = df[(df.week >= s) & (df.week <= e)]\n",
    "        reg(df_, faxes[i+1], i+1)\n",
    "\n",
    "    delete_extra_axes(fig, axes, 1)\n",
    "plt.tight_layout(h_pad=2, w_pad=2)"
   ]
  },
  {
   "cell_type": "code",
   "execution_count": null,
   "metadata": {},
   "outputs": [],
   "source": [
    "fig.savefig('FloridaPhases.png')"
   ]
  },
  {
   "cell_type": "code",
   "execution_count": null,
   "metadata": {},
   "outputs": [],
   "source": [
    "# TODO Add Louisiana phase graph (copy of above cell)\n",
    "reset_plot_settings()\n",
    "names = ['All Phases', 'Phase 1 (Exponential Growth)', 'Phase 2 (Fast Growth)', 'Phase 3 (Negative Growth)', 'Phase 4 (Slow Growth)',  'Phase 5 (Ending)']\n",
    "\n",
    "def reg(df, ax, i):\n",
    "    f = sns.regplot(data=df, x='desCartes', y='Incidence', ax=ax)\n",
    "    f.set_title(names[i])\n",
    "    f.set_xlabel('Descartes Index')\n",
    "    f.set_ylabel('Incidence')\n",
    "\n",
    "state = 'Louisiana'\n",
    "slices = phase_slices(state)\n",
    "df = df_cons[df_cons.state == state][['week', 'desCartes', 'Incidence']]\n",
    "df.desCartes = df.desCartes.shift(6)\n",
    "df = df.iloc[6:]\n",
    "\n",
    "with sns.plotting_context('paper', font_scale=1.2) as c:\n",
    "    fig, axes = plt.subplots(2, 3, figsize=(15, 6))\n",
    "    faxes = axes.flatten()\n",
    "    #display(df)\n",
    "    reg(df, faxes[0], 0)\n",
    "\n",
    "    for i, pslice in phase_slices(state) |> enumerate:\n",
    "        s, e = pslice\n",
    "        df_ = df[(df.week >= s) & (df.week <= e)]\n",
    "        reg(df_, faxes[i+1], i+1)\n",
    "\n",
    "    delete_extra_axes(fig, axes, 1)\n",
    "plt.tight_layout(h_pad=2, w_pad=2)"
   ]
  },
  {
   "cell_type": "code",
   "execution_count": null,
   "metadata": {},
   "outputs": [],
   "source": [
    "fig.savefig('LouisianaPhases.png')"
   ]
  },
  {
   "cell_type": "code",
   "execution_count": null,
   "metadata": {},
   "outputs": [],
   "source": [
    "# DELETE THIS\n",
    "\n",
    "slices = phase_slices('New Mexico')\n",
    "df = df_cons[df_cons.state == 'Florida'][['week', 'desCartes', 'Incidence']]\n",
    "df.desCartes = df.desCartes.shift(6)\n",
    "df = df.iloc[6:]\n",
    "\n",
    "for i, pslice in phase_slices('New Mexico') |> enumerate:\n",
    "    s, e = pslice\n",
    "    df_ = df[(df.week >= s) & (df.week <= e)]"
   ]
  },
  {
   "cell_type": "code",
   "execution_count": null,
   "metadata": {},
   "outputs": [],
   "source": [
    "# Figure 6 - Matrix of scatter plots for lag 6 between Incidence rate and mobility during phase 2\n",
    "reset_plot_settings()\n",
    "fig, axes = plt.subplots(6, 4, figsize=(20, 30)) # sharex=True, sharey=True\n",
    "#plt.subplots_adjust(hspace=0.7)\n",
    "plt.title('Figure 4', loc='left')\n",
    "plt.rcParams.update({'font.size': 14})\n",
    "faxes = axes.flatten()\n",
    "plt.xlabel('Descartes Index')\n",
    "plt.ylabel('Incidence')\n",
    "\n",
    "for i, state in df_xy.state.unique() |> sorted |> enumerate:\n",
    "    df = df_cons[df_cons.state == state][['week', 'desCartes', 'Incidence']]\n",
    "    df.desCartes = df.desCartes.shift(6)\n",
    "    df = df.iloc[6:]\n",
    "    s, e = phase_slices(state)[1]\n",
    "    df_ = df[(df.week >= s) & (df.week <= e)]\n",
    "    df_ = df_.rename(columns = {'desCartes': 'Mobility'}).copy()\n",
    "    ax = faxes[i]\n",
    "    ax.set_title(state)\n",
    "    with sns.plotting_context(font_scale=1):\n",
    "        f = sns.regplot(data=df_, x='Mobility', y='Incidence', ax=ax)\n",
    "        f.tick_params(labelsize=14)\n",
    "    #f.set(xlabel=None)\n",
    "    #f.set(ylabel=None)\n",
    "\n",
    "plt.tick_params(labelcolor='none', top=False, bottom=False, left=False, right=False)\n",
    "\n",
    "plt.xlabel('Mobility')\n",
    "plt.ylabel('Incidence')\n",
    "plt.tight_layout()\n",
    "foreach(fig.delaxes, faxes[-4:])\n",
    "mpl.rcdefaults() "
   ]
  },
  {
   "cell_type": "code",
   "execution_count": null,
   "metadata": {},
   "outputs": [],
   "source": [
    "fig.savefig('SecondPeakStates.png', dpi=600)"
   ]
  },
  {
   "cell_type": "code",
   "execution_count": null,
   "metadata": {},
   "outputs": [],
   "source": [
    "# Do this for PHASE I\n",
    "\n",
    "# Figure 6 - Matrix of scatter plots for lag 6 between Incidence rate and mobility during phase 2\n",
    "reset_plot_settings()\n",
    "fig, axes = plt.subplots(6, 4, figsize=(20, 30)) # sharex=True, sharey=True\n",
    "#plt.subplots_adjust(hspace=0.7)\n",
    "plt.title('Figure 4', loc='left')\n",
    "plt.rcParams.update({'font.size': 14})\n",
    "faxes = axes.flatten()\n",
    "plt.xlabel('Descartes Index')\n",
    "plt.ylabel('Incidence')\n",
    "\n",
    "for i, state in df_xy.state.unique() |> sorted |> enumerate:\n",
    "    df = df_cons[df_cons.state == state][['week', 'desCartes', 'Incidence']]\n",
    "    df.desCartes = df.desCartes.shift(6)\n",
    "    df = df.iloc[6:]\n",
    "    s, e = phase_slices(state)[0]\n",
    "    df_ = df[(df.week >= s) & (df.week <= e)]\n",
    "    df_ = df_.rename(columns = {'desCartes': 'Mobility'}).copy()\n",
    "    ax = faxes[i]\n",
    "    ax.set_title(state)\n",
    "    with sns.plotting_context(font_scale=1):\n",
    "        f = sns.regplot(data=df_, x='Mobility', y='Incidence', ax=ax)\n",
    "        f.tick_params(labelsize=14)\n",
    "    #f.set(xlabel=None)\n",
    "    #f.set(ylabel=None)\n",
    "\n",
    "plt.tick_params(labelcolor='none', top=False, bottom=False, left=False, right=False)\n",
    "\n",
    "plt.xlabel('Mobility')\n",
    "plt.ylabel('Incidence')\n",
    "plt.tight_layout()\n",
    "foreach(fig.delaxes, faxes[-4:])\n",
    "mpl.rcdefaults() "
   ]
  },
  {
   "cell_type": "code",
   "execution_count": null,
   "metadata": {},
   "outputs": [],
   "source": [
    "fig.savefig('PhaseI.png')"
   ]
  },
  {
   "cell_type": "code",
   "execution_count": null,
   "metadata": {},
   "outputs": [],
   "source": [
    "def r2(x, y):\n",
    "    return stats.pearsonr(x, y)[0] ** 2\n",
    "\n",
    "g = sns.jointplot(df_sc['cases100K'].values, df_sc['max_mob'].values, kind='reg')"
   ]
  },
  {
   "cell_type": "code",
   "execution_count": null,
   "metadata": {},
   "outputs": [],
   "source": [
    "df_sc[['cases100K', 'max_mob']].values |> stats.spearmanr"
   ]
  },
  {
   "cell_type": "code",
   "execution_count": null,
   "metadata": {},
   "outputs": [],
   "source": [
    "fig.savefig('StateMobCases.png')"
   ]
  },
  {
   "cell_type": "code",
   "execution_count": null,
   "metadata": {},
   "outputs": [],
   "source": [
    "def plot_states(lst):\n",
    "    dfs = []\n",
    "    for state in lst:\n",
    "        if state in all_data.keys():\n",
    "            df = all_data[state][['Descartes']]\n",
    "            df = df[(df.index > '2020-04-27' |> pd.to_datetime) & (df.index < '2020-07-27' |> pd.to_datetime)]\n",
    "            df = df.rename(columns = {'Descartes': state})\n",
    "            dfs.append(df)\n",
    "    df = reduce(lambda l,r: pd.merge(l,r,on=['month'], how='outer'), dfs)\n",
    "    df.reset_index().rename(columns={'month': 'Month'}).set_index('Month').plot(figsize=(30, 10))"
   ]
  },
  {
   "cell_type": "code",
   "execution_count": null,
   "metadata": {},
   "outputs": [],
   "source": [
    "plot_states(peak_states)"
   ]
  },
  {
   "cell_type": "code",
   "execution_count": null,
   "metadata": {},
   "outputs": [],
   "source": [
    "plot_states(non_peak_states)"
   ]
  },
  {
   "cell_type": "code",
   "execution_count": null,
   "metadata": {},
   "outputs": [],
   "source": [
    "def plot_states_box(lst):\n",
    "    dfs = []\n",
    "    for state in lst:\n",
    "        if state in all_data.keys():\n",
    "            df = all_data[state][['Descartes']]\n",
    "            df = df[(df.index > '2020-04-27' |> pd.to_datetime) & (df.index < '2020-07-27' |> pd.to_datetime)]\n",
    "            df = df.rename(columns = {'Descartes': state})\n",
    "            dfs.append(df)\n",
    "    df = reduce(lambda l, r: pd.merge(l,r,on=['month'], how='outer'), dfs)\n",
    "    df = df.reset_index().rename(columns={'month': 'Month'}).set_index('Month')\n",
    "    df.boxplot(figsize=(30, 5), rot=90)\n",
    "    return df"
   ]
  },
  {
   "cell_type": "code",
   "execution_count": null,
   "metadata": {},
   "outputs": [],
   "source": [
    "df_p = plot_states_box(peak_states)"
   ]
  },
  {
   "cell_type": "code",
   "execution_count": null,
   "metadata": {},
   "outputs": [],
   "source": [
    "df_np = plot_states_box(non_peak_states)"
   ]
  },
  {
   "cell_type": "code",
   "execution_count": null,
   "metadata": {},
   "outputs": [],
   "source": [
    "def plot_states_agg(lst):\n",
    "    dfs = []\n",
    "    for state in lst:\n",
    "        if state in all_data.keys():\n",
    "            df = all_data[state][['Descartes']]\n",
    "            df = df[(df.index > '2020-04-27' |> pd.to_datetime) & (df.index < '2020-07-27' |> pd.to_datetime)]\n",
    "            df = df.rename(columns = {'DesCartes': state})\n",
    "            dfs.append(df)\n",
    "    df = reduce(lambda l,r: pd.merge(l,r,on=['month'], how='outer'), dfs)\n",
    "    df.reset_index().rename(columns={'month': 'Month'}).set_index('Month').T.mean().plot()"
   ]
  },
  {
   "cell_type": "code",
   "execution_count": null,
   "metadata": {},
   "outputs": [],
   "source": [
    "plot_states_agg(peak_states)"
   ]
  },
  {
   "cell_type": "code",
   "execution_count": null,
   "metadata": {},
   "outputs": [],
   "source": [
    "plot_states_agg(non_peak_states)"
   ]
  },
  {
   "cell_type": "code",
   "execution_count": null,
   "metadata": {},
   "outputs": [],
   "source": [
    "#df.reset_index().rename(columns={'startDayWeek': 'Month'}).set_index('Month').T.mean()"
   ]
  },
  {
   "cell_type": "code",
   "execution_count": null,
   "metadata": {},
   "outputs": [],
   "source": [
    "#df.reset_index().rename(columns={'startDayWeek': 'Month'}).set_index('Month').T.mean()"
   ]
  },
  {
   "cell_type": "code",
   "execution_count": null,
   "metadata": {},
   "outputs": [],
   "source": [
    "# fig, axes = plt.subplots(ncols=2,nrows=10, sharex=False, sharey=False, figsize=(30, 60))\n",
    "\n",
    "# for i, ax in enumerate(axes.flatten()):\n",
    "#     state = peak_states[i]\n",
    "#     df_state = df[[state]]\n",
    "#     df_state.plot(ax=ax, kind='sc')\n",
    "\n",
    "# fig.canvas.set_window_title('Mobility') # not working\n",
    "# fig.suptitle('Mobility', fontsize=16)\n",
    "# plt.tight_layout()"
   ]
  },
  {
   "cell_type": "code",
   "execution_count": null,
   "metadata": {},
   "outputs": [],
   "source": [
    "df = df_states.T.reset_index().drop(columns=['level_0'])\n",
    "df[df.state.isin(peak_states)].set_index('state').T.rolling(14).mean().dropna().round(2).plot(legend=False, figsize=(27, 10))\n",
    "labelLines(plt.gca().get_lines(), zorder=2.5)"
   ]
  },
  {
   "cell_type": "code",
   "execution_count": null,
   "metadata": {},
   "outputs": [],
   "source": [
    "df = df_states.T.reset_index().drop(columns=['level_0'])\n",
    "ax = df[df.state.isin(non_peak_states[:20])].set_index('state').T.rolling(14).mean().dropna().round(2).plot(legend=False, figsize=(27, 10))\n",
    "labelLines(plt.gca().get_lines(), zorder=2.5)"
   ]
  },
  {
   "cell_type": "code",
   "execution_count": null,
   "metadata": {},
   "outputs": [],
   "source": [
    "df = df_states.T.reset_index().drop(columns=['level_0'])\n",
    "ax = df[df.state.isin(non_peak_states[20:])].set_index('state').T.rolling(14).mean().dropna().round(2).plot(legend=False, figsize=(27, 10))\n",
    "labelLines(plt.gca().get_lines(), zorder=2.5)"
   ]
  },
  {
   "cell_type": "markdown",
   "metadata": {},
   "source": [
    "### Verify against Safegraph"
   ]
  },
  {
   "cell_type": "code",
   "execution_count": null,
   "metadata": {
    "scrolled": true
   },
   "outputs": [],
   "source": [
    "df_sg = 'State_Consolidated_Mobility_Miles_New_Actionable_Oct12.csv' |> pd.read_csv\n",
    "df_sg['startDayWeek'] = df_sg['startDayWeek'].apply(dtparse)\n",
    "df_sg['totmob'] = df_sg['less10'] + df_sg['over10']\n",
    "df_sg = df_sg[['startDayWeek', 'ID', 'totmob']].pivot('startDayWeek', columns='ID')\n",
    "df_sg.columns = [x[1] for x in df_sg.columns]"
   ]
  },
  {
   "cell_type": "code",
   "execution_count": null,
   "metadata": {},
   "outputs": [],
   "source": [
    "states = df_sg.columns\n",
    "fig, axes = plt.subplots(ncols=4,nrows=13, sharex=True, sharey=False, figsize=(30, 60))\n",
    "for i, ax in axes.flatten() |> enumerate:\n",
    "    if i < states |> len:\n",
    "        state = states[i]\n",
    "        df_sg[state] = df_sg[state].values |> minmax_scale\n",
    "        df_sg[state].plot(ax=ax, title=state)\n",
    "\n",
    "fig.suptitle('Safegraph', fontsize=16)\n",
    "plt.tight_layout()"
   ]
  },
  {
   "cell_type": "code",
   "execution_count": null,
   "metadata": {
    "scrolled": true
   },
   "outputs": [],
   "source": [
    "fig.savefig('Safegraph.png')"
   ]
  },
  {
   "cell_type": "markdown",
   "metadata": {},
   "source": [
    "## Mask"
   ]
  },
  {
   "cell_type": "code",
   "execution_count": null,
   "metadata": {},
   "outputs": [],
   "source": [
    "df_stay2 = pd.read_html('Stay.html')[0]\n",
    "cols = range(1,14) |> map$(->'I' + str(_).zfill(2)) |> list\n",
    "df_stay2['temp'] = df_stay2['Dates for reopenings and pausing or reversing reopenings'].apply(->re.findall('\\w.{3,5} \\d{1,2}:.*?\\.', _))\n",
    "df_stay2[cols] = pd.DataFrame(df_stay2['temp'].apply(->_ + ([''] * (13 - len(_)))).tolist(), columns=cols)\n",
    "df_stay2 = df_stay2.drop(columns=['temp'])\n",
    "df_stay.merge(df_stay2[['State', *cols]]).to_excel('Stay_Detailed.xlsx', index=False)"
   ]
  },
  {
   "cell_type": "code",
   "execution_count": null,
   "metadata": {},
   "outputs": [],
   "source": [
    "df = pd.read_excel('Stay_Detailed.xlsx')"
   ]
  },
  {
   "cell_type": "code",
   "execution_count": null,
   "metadata": {},
   "outputs": [],
   "source": [
    "cols = range(1,14) |> map$(->'I' + str(_).zfill(2)) |> list\n",
    "\n",
    "def not_date(s):\n",
    "    res = re.findall(': (.*)', s)\n",
    "    return res[0] if len(res) > 0 else ''\n",
    "\n",
    "orders = df[cols].fillna('').values |> it.chain.from_iterable..>set..>list |> .[1:]"
   ]
  },
  {
   "cell_type": "code",
   "execution_count": null,
   "metadata": {},
   "outputs": [],
   "source": [
    "orders = [order |> not_date for order in orders]"
   ]
  },
  {
   "cell_type": "code",
   "execution_count": null,
   "metadata": {},
   "outputs": [],
   "source": [
    "def show_state(s):\n",
    "    for s in [x for x in df[df.State == s][cols].values.tolist()[0] if type(x) == str]:\n",
    "        print(s)\n",
    "\n",
    "'Louisiana' |> show_state"
   ]
  },
  {
   "cell_type": "code",
   "execution_count": null,
   "metadata": {},
   "outputs": [],
   "source": [
    "'Alabama' |> show_state"
   ]
  },
  {
   "cell_type": "code",
   "execution_count": null,
   "metadata": {},
   "outputs": [],
   "source": [
    "'Missouri' |> show_state"
   ]
  },
  {
   "cell_type": "code",
   "execution_count": null,
   "metadata": {},
   "outputs": [],
   "source": [
    "'Florida' |> show_state"
   ]
  },
  {
   "cell_type": "code",
   "execution_count": null,
   "metadata": {},
   "outputs": [],
   "source": [
    "from gensim.models.doc2vec import Doc2Vec, TaggedDocument\n",
    "\n",
    "sentenceLabeled = [TaggedDocument(words=sentence.split(), tags = ['SENT_%s' %sentenceID]) for sentenceID, sentence in enumerate(orders)]\n",
    "model = Doc2Vec(size=len(orders), window=10, min_count=0, workers=28, alpha=0.025, min_alpha=0.025)\n",
    "model.build_vocab(sentenceLabeled)"
   ]
  },
  {
   "cell_type": "code",
   "execution_count": null,
   "metadata": {},
   "outputs": [],
   "source": [
    "%%capture\n",
    "for epoch in range(20):\n",
    "    model.train(sentenceLabeled, total_examples=len(orders), epochs=model.epochs)\n",
    "    model.alpha -= 0.002  # decrease the learning rate\n",
    "    model.min_alpha = model.alpha  # fix the learning rate, no decay\n",
    "textVect = model.docvecs.doctag_syn0"
   ]
  },
  {
   "cell_type": "code",
   "execution_count": null,
   "metadata": {},
   "outputs": [],
   "source": [
    "num_clusters = 10\n",
    "km = KMeans(n_clusters=num_clusters)\n",
    "km.fit(textVect)\n",
    "clusters = km.labels_.tolist()\n",
    "\n",
    "cluster_info = {'sentence': orders, 'cluster' : clusters}\n",
    "df_sents = pd.DataFrame(cluster_info, index=[clusters], columns = ['sentence','cluster'])"
   ]
  },
  {
   "cell_type": "code",
   "execution_count": null,
   "metadata": {},
   "outputs": [],
   "source": [
    "for s in df_sents[df_sents.cluster == 8].sentence.values:\n",
    "    print(s)"
   ]
  }
 ],
 "metadata": {
  "kernelspec": {
   "display_name": "Coconut (Default Python 3)",
   "language": "coconut",
   "name": "coconut_py3"
  },
  "language_info": {
   "codemirror_mode": {
    "name": "python",
    "version": 3
   },
   "file_extension": ".coco",
   "mimetype": "text/x-python3",
   "name": "coconut",
   "pygments_lexer": "coconut",
   "version": "1.4.3-post_dev55"
  }
 },
 "nbformat": 4,
 "nbformat_minor": 4
}
